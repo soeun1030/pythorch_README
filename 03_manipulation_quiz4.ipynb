{
  "cells": [
    {
      "cell_type": "markdown",
      "metadata": {
        "id": "view-in-github",
        "colab_type": "text"
      },
      "source": [
        "<a href=\"https://colab.research.google.com/github/soeun1030/pythorch_README/blob/main/03_manipulation_quiz4.ipynb\" target=\"_parent\"><img src=\"https://colab.research.google.com/assets/colab-badge.svg\" alt=\"Open In Colab\"/></a>"
      ]
    },
    {
      "cell_type": "code",
      "execution_count": 1,
      "metadata": {
        "colab": {
          "base_uri": "https://localhost:8080/"
        },
        "id": "uOE-jqJUE2X7",
        "outputId": "7f477132-c431-49b3-8100-4422183604fd"
      },
      "outputs": [
        {
          "output_type": "stream",
          "name": "stdout",
          "text": [
            "setting complete.\n"
          ]
        }
      ],
      "source": [
        "import torch\n",
        "print(\"setting complete.\")"
      ]
    },
    {
      "cell_type": "markdown",
      "metadata": {
        "id": "53eGldEDE2X-"
      },
      "source": [
        "### 문제1\n",
        "- 2차원 텐서 [[1, 2, 3], [4, 5, 6]]를 3x2 텐서로 변환해서 출력하세요."
      ]
    },
    {
      "cell_type": "code",
      "execution_count": 3,
      "metadata": {
        "colab": {
          "base_uri": "https://localhost:8080/"
        },
        "id": "Oite5Y4aE2YA",
        "outputId": "7f5489ab-f5e4-4847-ade2-35b21e980482"
      },
      "outputs": [
        {
          "output_type": "stream",
          "name": "stdout",
          "text": [
            "tensor([[1, 2],\n",
            "        [3, 4],\n",
            "        [5, 6]])\n"
          ]
        }
      ],
      "source": [
        "t = torch.tensor([[1, 2, 3], [4, 5, 6]])\n",
        "\n",
        "x = t.view(3,2)\n",
        "print(x)"
      ]
    },
    {
      "cell_type": "markdown",
      "metadata": {
        "id": "rhF0u0LkE2YA"
      },
      "source": [
        "### 문제2\n",
        "- 단일 값 텐서 tensor(42)에서 값을 추출하고 데이터 타입을 확인해서 출력하세요."
      ]
    },
    {
      "cell_type": "code",
      "execution_count": 7,
      "metadata": {
        "colab": {
          "base_uri": "https://localhost:8080/"
        },
        "id": "d6_cdnWwE2YA",
        "outputId": "6e69f46a-9e2e-4aea-f050-4943223b35e2"
      },
      "outputs": [
        {
          "output_type": "stream",
          "name": "stdout",
          "text": [
            "42\n",
            "torch.int64\n"
          ]
        }
      ],
      "source": [
        "# 여기에 코드를 작성합니다\n",
        "# (1) 값을 추출하고\n",
        "t = torch.tensor(42)\n",
        "print(t.item())\n",
        "# (2) 데이터 타입을 확인하세요.\n",
        "print(t.dtype)"
      ]
    },
    {
      "cell_type": "markdown",
      "metadata": {
        "id": "OCq369U0E2YB"
      },
      "source": [
        "### 문제 3\n",
        "- 3차원 텐서 [[[1, 2, 3]]]에서 크기가 1인 차원을 제거해서 출력하세요."
      ]
    },
    {
      "cell_type": "code",
      "execution_count": 9,
      "metadata": {
        "colab": {
          "base_uri": "https://localhost:8080/"
        },
        "id": "4GWBrgGhE2YB",
        "outputId": "aaf0ed4c-36d4-4ac5-cd6e-c0d111998419"
      },
      "outputs": [
        {
          "output_type": "stream",
          "name": "stdout",
          "text": [
            "torch.Size([1, 1, 3])\n",
            "tensor([1, 2, 3])\n",
            "torch.Size([3])\n"
          ]
        }
      ],
      "source": [
        "t = torch.tensor([[[1, 2, 3]]])\n",
        "print(t.shape)\n",
        "\n",
        "ts = torch.squeeze(t)\n",
        "print(ts)\n",
        "print(ts.shape)"
      ]
    },
    {
      "cell_type": "markdown",
      "metadata": {
        "id": "OCs-Gr6hE2YB"
      },
      "source": [
        "### 문제 4\n",
        "- 1차원 텐서 [1, 2, 3]에 새로운 차원을 추가하여 2차원 텐서로 만들어 출력하세요."
      ]
    },
    {
      "cell_type": "code",
      "execution_count": 23,
      "metadata": {
        "colab": {
          "base_uri": "https://localhost:8080/"
        },
        "id": "O_2XB6ZUE2YC",
        "outputId": "17019ef9-de4f-4f96-f136-f7a0385e9cca"
      },
      "outputs": [
        {
          "output_type": "stream",
          "name": "stdout",
          "text": [
            "torch.Size([3])\n",
            "tensor([[1, 2, 3]])\n",
            "torch.Size([1, 3])\n"
          ]
        }
      ],
      "source": [
        "t = torch.tensor([1, 2, 3])\n",
        "print(t.shape)\n",
        "\n",
        "ts = torch.unsqueeze(t, dim=0)\n",
        "print(ts)\n",
        "print(ts.shape)"
      ]
    },
    {
      "cell_type": "markdown",
      "metadata": {
        "id": "z6Hz-uYNE2YC"
      },
      "source": [
        "### 문제 5\n",
        "- 두 텐서 a = [1, 2]와 b = [3, 4]를 쌓아 2x2 텐서를 생성해서 출력하세요.\n"
      ]
    },
    {
      "cell_type": "code",
      "execution_count": 11,
      "metadata": {
        "colab": {
          "base_uri": "https://localhost:8080/"
        },
        "id": "7181QNeOE2YC",
        "outputId": "3b2636ab-9d9e-43e9-ad36-af0a03253c88"
      },
      "outputs": [
        {
          "output_type": "stream",
          "name": "stdout",
          "text": [
            "tensor([[1, 2],\n",
            "        [3, 4]])\n"
          ]
        }
      ],
      "source": [
        "x = torch.tensor([1, 2])\n",
        "y = torch.tensor([3, 4])\n",
        "z = torch.stack((x, y))\n",
        "print(z)"
      ]
    },
    {
      "cell_type": "markdown",
      "metadata": {
        "id": "oyJNL5VGE2YD"
      },
      "source": [
        "### 문제 6\n",
        "- 두 텐서 a = [[1, 2], [3, 4]]와 b = [[5, 6], [7, 8]]를 열 방향으로 연결해서 출력하세요."
      ]
    },
    {
      "cell_type": "code",
      "execution_count": 12,
      "metadata": {
        "colab": {
          "base_uri": "https://localhost:8080/"
        },
        "id": "aX6xkZwBE2YD",
        "outputId": "15769ef4-a722-4b01-c45a-bf85b4ed3848"
      },
      "outputs": [
        {
          "output_type": "stream",
          "name": "stdout",
          "text": [
            "tensor([[1, 2, 5, 6],\n",
            "        [3, 4, 7, 8]])\n"
          ]
        }
      ],
      "source": [
        "a = torch.tensor([[1, 2], [3, 4]])\n",
        "b = torch.tensor([[5, 6], [7, 8]])\n",
        "c = torch.cat((a, b), dim=1)\n",
        "print(c)\n"
      ]
    },
    {
      "cell_type": "markdown",
      "metadata": {
        "id": "YXqf6qC5E2YD"
      },
      "source": [
        "### 문제 7\n",
        "- 텐서 [[1, 2, 3], [4, 5, 6]]를 2개의 조각으로 나눠서 출력해보세요. (행 기준)."
      ]
    },
    {
      "cell_type": "code",
      "execution_count": 24,
      "metadata": {
        "colab": {
          "base_uri": "https://localhost:8080/"
        },
        "id": "nuqcAzb0E2YE",
        "outputId": "54342376-96e2-4fa7-a3e5-323d8195c7a6"
      },
      "outputs": [
        {
          "output_type": "stream",
          "name": "stdout",
          "text": [
            "tensor([[1, 2, 3],\n",
            "        [4, 5, 6]])\n",
            "tensor([[1, 2, 3]])\n",
            "tensor([[4, 5, 6]])\n"
          ]
        }
      ],
      "source": [
        "t = torch.tensor([[1, 2, 3], [4, 5, 6]])\n",
        "print(t)\n",
        "\n",
        "x, y = torch.chunk(t, 2, dim=0)\n",
        "print(x)\n",
        "print(y)"
      ]
    },
    {
      "cell_type": "markdown",
      "metadata": {
        "id": "q9Ps0-QWE2YE"
      },
      "source": [
        "### 문제8\n",
        "- 텐서 [1, 2, 3, 4, 5]를 각각 2, 2, 1의 크기로 나눠서 출력해보세요."
      ]
    },
    {
      "cell_type": "code",
      "execution_count": 26,
      "metadata": {
        "colab": {
          "base_uri": "https://localhost:8080/"
        },
        "id": "cBSRjpNuE2YE",
        "outputId": "fe04be7c-14a5-4642-b7af-77f2f4850478"
      },
      "outputs": [
        {
          "output_type": "stream",
          "name": "stdout",
          "text": [
            "tensor([1, 2, 3, 4, 5])\n",
            "tensor([1, 2])\n",
            "tensor([3, 4])\n",
            "tensor([5])\n"
          ]
        }
      ],
      "source": [
        "t = torch.tensor([1, 2, 3, 4, 5])\n",
        "print(t)\n",
        "\n",
        "a, b, c = torch.split(t, [2,2,1])\n",
        "print(a)\n",
        "print(b)\n",
        "print(c)\n"
      ]
    },
    {
      "cell_type": "markdown",
      "metadata": {
        "id": "7IsrCaMwE2YE"
      },
      "source": [
        "### 문제9\n",
        "- 텐서 [[1, 2], [3, 4], [5, 6]]에서:\n",
        "- dim=1 기준으로 크기 1씩 나누세요.\n",
        "- 각각의 조각을 새로운 축에 쌓은 후 출력해보세요."
      ]
    },
    {
      "cell_type": "code",
      "execution_count": 27,
      "metadata": {
        "colab": {
          "base_uri": "https://localhost:8080/"
        },
        "id": "_8esh5KkE2YE",
        "outputId": "2a87afc6-5590-45e0-9a5e-70a5cd960535"
      },
      "outputs": [
        {
          "output_type": "stream",
          "name": "stdout",
          "text": [
            "(tensor([[1],\n",
            "        [3],\n",
            "        [5]]), tensor([[2],\n",
            "        [4],\n",
            "        [6]]))\n",
            "tensor([[[1],\n",
            "         [3],\n",
            "         [5]],\n",
            "\n",
            "        [[2],\n",
            "         [4],\n",
            "         [6]]])\n"
          ]
        }
      ],
      "source": [
        "# 여기에 코드를 작성합니다\n",
        "# 1. 열 기준으로 크기 1씩 나누기\n",
        "t = torch.tensor([[1, 2], [3, 4], [5, 6]])\n",
        "ts = torch.split(t, 1, dim=1)\n",
        "print(ts)\n",
        "\n",
        "# 2. 새로운 축에 쌓기\n",
        "ts = torch.stack(ts)\n",
        "print(ts)\n",
        "\n"
      ]
    },
    {
      "cell_type": "markdown",
      "metadata": {
        "id": "86Uw_AEKE2YF"
      },
      "source": [
        "### 문제10\n",
        "- 다음 텐서를 활용해서 아래 문제를 해결해보세요\n",
        "  ```\n",
        "  a = torch.tensor([[1, 2], [3, 4]])\n",
        "  b = torch.tensor([[5, 6], [7, 8]])\n",
        "  ```\n",
        "\n",
        "1. 두 텐서를 열 기준으로 연결하고 결과를 출력하세요.\n",
        "2. 연결된 텐서를 크기 `(4, 2)`로 변환하세요.\n",
        "3. 변환된 텐서를 2개의 조각으로 나누고, 각 조각을 0번 축으로 스택하여 출력하세요.\n"
      ]
    },
    {
      "cell_type": "code",
      "execution_count": 28,
      "metadata": {
        "colab": {
          "base_uri": "https://localhost:8080/"
        },
        "id": "-6oosC3SE2YF",
        "outputId": "18820b6a-423b-4619-b9fb-72e55fb9a8a4"
      },
      "outputs": [
        {
          "output_type": "stream",
          "name": "stdout",
          "text": [
            "tensor([[1, 2, 5, 6],\n",
            "        [3, 4, 7, 8]])\n",
            "tensor([[1, 2],\n",
            "        [5, 6],\n",
            "        [3, 4],\n",
            "        [7, 8]])\n",
            "tensor([[[1, 2],\n",
            "         [5, 6]],\n",
            "\n",
            "        [[3, 4],\n",
            "         [7, 8]]])\n"
          ]
        }
      ],
      "source": [
        "# 여기에 코드를 작성합니다\n",
        "# 1. 열 기준으로 병합\n",
        "a = torch.tensor([[1, 2], [3, 4]])\n",
        "b = torch.tensor([[5, 6], [7, 8]])\n",
        "\n",
        "c = torch.cat((a, b), dim=1)\n",
        "print(c)\n",
        "\n",
        "# 2. 크기 (4, 2)로 변환\n",
        "c = c.view(4, 2)\n",
        "print(c)\n",
        "\n",
        "# 3. 2개의 조각으로 나누고\n",
        "ts = torch.chunk(c, 2, dim=0)\n",
        "\n",
        "# 4. 0번 축으로 스택\n",
        "z = torch.stack(ts)\n",
        "print(z)"
      ]
    },
    {
      "cell_type": "code",
      "source": [],
      "metadata": {
        "id": "IQn3l0DNHD2T"
      },
      "execution_count": null,
      "outputs": []
    }
  ],
  "metadata": {
    "kernelspec": {
      "display_name": "pytorch-env",
      "language": "python",
      "name": "python3"
    },
    "language_info": {
      "codemirror_mode": {
        "name": "ipython",
        "version": 3
      },
      "file_extension": ".py",
      "mimetype": "text/x-python",
      "name": "python",
      "nbconvert_exporter": "python",
      "pygments_lexer": "ipython3",
      "version": "3.12.8"
    },
    "colab": {
      "provenance": [],
      "include_colab_link": true
    }
  },
  "nbformat": 4,
  "nbformat_minor": 0
}