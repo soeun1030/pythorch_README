{
  "nbformat": 4,
  "nbformat_minor": 0,
  "metadata": {
    "colab": {
      "provenance": [],
      "gpuType": "T4",
      "authorship_tag": "ABX9TyMQoTvkMLqVjyvFu+EV3SA+",
      "include_colab_link": true
    },
    "kernelspec": {
      "name": "python3",
      "display_name": "Python 3"
    },
    "language_info": {
      "name": "python"
    },
    "accelerator": "GPU"
  },
  "cells": [
    {
      "cell_type": "markdown",
      "metadata": {
        "id": "view-in-github",
        "colab_type": "text"
      },
      "source": [
        "<a href=\"https://colab.research.google.com/github/soeun1030/pythorch_README/blob/main/01_tensor.ipynb\" target=\"_parent\"><img src=\"https://colab.research.google.com/assets/colab-badge.svg\" alt=\"Open In Colab\"/></a>"
      ]
    },
    {
      "cell_type": "code",
      "source": [
        "!pip3 install torch"
      ],
      "metadata": {
        "colab": {
          "base_uri": "https://localhost:8080/"
        },
        "id": "QoJU62mz5jEb",
        "outputId": "e5493458-3490-42d5-93a6-65f976505181"
      },
      "execution_count": 1,
      "outputs": [
        {
          "output_type": "stream",
          "name": "stdout",
          "text": [
            "Requirement already satisfied: torch in /usr/local/lib/python3.10/dist-packages (2.5.1+cu121)\n",
            "Requirement already satisfied: filelock in /usr/local/lib/python3.10/dist-packages (from torch) (3.16.1)\n",
            "Requirement already satisfied: typing-extensions>=4.8.0 in /usr/local/lib/python3.10/dist-packages (from torch) (4.12.2)\n",
            "Requirement already satisfied: networkx in /usr/local/lib/python3.10/dist-packages (from torch) (3.4.2)\n",
            "Requirement already satisfied: jinja2 in /usr/local/lib/python3.10/dist-packages (from torch) (3.1.5)\n",
            "Requirement already satisfied: fsspec in /usr/local/lib/python3.10/dist-packages (from torch) (2024.10.0)\n",
            "Requirement already satisfied: sympy==1.13.1 in /usr/local/lib/python3.10/dist-packages (from torch) (1.13.1)\n",
            "Requirement already satisfied: mpmath<1.4,>=1.1.0 in /usr/local/lib/python3.10/dist-packages (from sympy==1.13.1->torch) (1.3.0)\n",
            "Requirement already satisfied: MarkupSafe>=2.0 in /usr/local/lib/python3.10/dist-packages (from jinja2->torch) (3.0.2)\n"
          ]
        }
      ]
    },
    {
      "cell_type": "code",
      "source": [
        "!pip3 install torchvision"
      ],
      "metadata": {
        "colab": {
          "base_uri": "https://localhost:8080/"
        },
        "id": "ZLPhkWJu5zrj",
        "outputId": "4e51268a-36f6-439d-f795-fd79d0e1042d"
      },
      "execution_count": 2,
      "outputs": [
        {
          "output_type": "stream",
          "name": "stdout",
          "text": [
            "Requirement already satisfied: torchvision in /usr/local/lib/python3.10/dist-packages (0.20.1+cu121)\n",
            "Requirement already satisfied: numpy in /usr/local/lib/python3.10/dist-packages (from torchvision) (1.26.4)\n",
            "Requirement already satisfied: torch==2.5.1 in /usr/local/lib/python3.10/dist-packages (from torchvision) (2.5.1+cu121)\n",
            "Requirement already satisfied: pillow!=8.3.*,>=5.3.0 in /usr/local/lib/python3.10/dist-packages (from torchvision) (11.1.0)\n",
            "Requirement already satisfied: filelock in /usr/local/lib/python3.10/dist-packages (from torch==2.5.1->torchvision) (3.16.1)\n",
            "Requirement already satisfied: typing-extensions>=4.8.0 in /usr/local/lib/python3.10/dist-packages (from torch==2.5.1->torchvision) (4.12.2)\n",
            "Requirement already satisfied: networkx in /usr/local/lib/python3.10/dist-packages (from torch==2.5.1->torchvision) (3.4.2)\n",
            "Requirement already satisfied: jinja2 in /usr/local/lib/python3.10/dist-packages (from torch==2.5.1->torchvision) (3.1.5)\n",
            "Requirement already satisfied: fsspec in /usr/local/lib/python3.10/dist-packages (from torch==2.5.1->torchvision) (2024.10.0)\n",
            "Requirement already satisfied: sympy==1.13.1 in /usr/local/lib/python3.10/dist-packages (from torch==2.5.1->torchvision) (1.13.1)\n",
            "Requirement already satisfied: mpmath<1.4,>=1.1.0 in /usr/local/lib/python3.10/dist-packages (from sympy==1.13.1->torch==2.5.1->torchvision) (1.3.0)\n",
            "Requirement already satisfied: MarkupSafe>=2.0 in /usr/local/lib/python3.10/dist-packages (from jinja2->torch==2.5.1->torchvision) (3.0.2)\n"
          ]
        }
      ]
    },
    {
      "cell_type": "code",
      "source": [
        "import torch\n",
        "torch.__version__"
      ],
      "metadata": {
        "colab": {
          "base_uri": "https://localhost:8080/",
          "height": 35
        },
        "id": "DXlq-9cS57PW",
        "outputId": "32d66e6e-2fa8-4031-fe0a-3eedd1f75071"
      },
      "execution_count": 10,
      "outputs": [
        {
          "output_type": "execute_result",
          "data": {
            "text/plain": [
              "'2.5.1+cu121'"
            ],
            "application/vnd.google.colaboratory.intrinsic+json": {
              "type": "string"
            }
          },
          "metadata": {},
          "execution_count": 10
        }
      ]
    },
    {
      "cell_type": "code",
      "source": [
        "import numpy as np"
      ],
      "metadata": {
        "id": "4oJhR8UlDMrW"
      },
      "execution_count": 11,
      "outputs": []
    },
    {
      "cell_type": "markdown",
      "source": [
        "#01. 텐서 초기화\n",
        "### 초기화 : 텐서에 특정 값을 채워서 생성하는 것\n",
        "\n",
        "## 1-1. 초기화되지 않은 Tensor\n",
        "### 초기화되지 않은 텐서 : 특정한 값이 채워지지 않은 상태로 생성하는 것"
      ],
      "metadata": {
        "id": "7ymvwEwEDkZB"
      }
    },
    {
      "cell_type": "code",
      "source": [
        "tensor = torch.empty(4, 2)\n",
        "print(tensor)"
      ],
      "metadata": {
        "colab": {
          "base_uri": "https://localhost:8080/"
        },
        "id": "tj823wDzDnQB",
        "outputId": "b77d741a-6c4e-41be-8637-4113854036d6"
      },
      "execution_count": 12,
      "outputs": [
        {
          "output_type": "stream",
          "name": "stdout",
          "text": [
            "tensor([[1.5554e-43, 1.5975e-43],\n",
            "        [1.3873e-43, 1.4574e-43],\n",
            "        [1.4013e-44, 1.6255e-43],\n",
            "        [1.5554e-43, 1.5975e-43]])\n"
          ]
        }
      ]
    },
    {
      "cell_type": "markdown",
      "source": [
        "## 1-2. 상수로 초기화된 Tensor\n",
        "### - torch.zeros()\n",
        "### - torch.ones()"
      ],
      "metadata": {
        "id": "IJ4e6Vq_D8YK"
      }
    },
    {
      "cell_type": "code",
      "source": [
        "a = torch.ones(3, 4, dtype=torch.long)  #dytpe : 데이터 타입 지정\n",
        "b = torch.zeros(2, 2)\n",
        "print(a)\n",
        "print(b)"
      ],
      "metadata": {
        "colab": {
          "base_uri": "https://localhost:8080/"
        },
        "id": "-pwUrkjaDu0J",
        "outputId": "1b3c6937-7323-423c-f40f-ba8956abe9bd"
      },
      "execution_count": 14,
      "outputs": [
        {
          "output_type": "stream",
          "name": "stdout",
          "text": [
            "tensor([[1, 1, 1, 1],\n",
            "        [1, 1, 1, 1],\n",
            "        [1, 1, 1, 1]])\n",
            "tensor([[0., 0.],\n",
            "        [0., 0.]])\n"
          ]
        }
      ]
    },
    {
      "cell_type": "markdown",
      "source": [
        "## 1-3. 무작위로 초기화된 Tensor\n",
        "### - torch.rand : 0 ~ 1 사이의 값으로 무작위로 초기화\n",
        "### - torch.randn : 표준정규분포에서 무작위로 초기화"
      ],
      "metadata": {
        "id": "3GBriPx_EkoY"
      }
    },
    {
      "cell_type": "code",
      "source": [
        "a = torch.rand(3, 3)\n",
        "b = torch.randn(3, 3)\n",
        "print(a, b)"
      ],
      "metadata": {
        "colab": {
          "base_uri": "https://localhost:8080/"
        },
        "id": "tAGZZBTBEUL-",
        "outputId": "b14586ea-8bed-46a4-a97b-aeaa3f12ab7d"
      },
      "execution_count": 15,
      "outputs": [
        {
          "output_type": "stream",
          "name": "stdout",
          "text": [
            "tensor([[0.3698, 0.3287, 0.1660],\n",
            "        [0.8994, 0.3264, 0.5337],\n",
            "        [0.1850, 0.8077, 0.3904]]) tensor([[-0.4776, -0.5529,  0.1706],\n",
            "        [-0.3713,  0.4774,  0.3191],\n",
            "        [ 0.2059,  1.0412,  0.7804]])\n"
          ]
        }
      ]
    },
    {
      "cell_type": "markdown",
      "source": [
        "## 1-4. 직접 입력한 값으로 초기화"
      ],
      "metadata": {
        "id": "Isgp_4OXFGxv"
      }
    },
    {
      "cell_type": "code",
      "source": [
        "a = torch.tensor([1,2.3])\n",
        "a"
      ],
      "metadata": {
        "colab": {
          "base_uri": "https://localhost:8080/"
        },
        "id": "3XAtyXsWFFiz",
        "outputId": "6ee9de9b-5c22-45df-b464-9d4a836e76d4"
      },
      "execution_count": 16,
      "outputs": [
        {
          "output_type": "execute_result",
          "data": {
            "text/plain": [
              "tensor([1.0000, 2.3000])"
            ]
          },
          "metadata": {},
          "execution_count": 16
        }
      ]
    },
    {
      "cell_type": "markdown",
      "source": [
        "## 1-5. Numpy 배열로부터 초기화"
      ],
      "metadata": {
        "id": "nOuCG2gLFgNr"
      }
    },
    {
      "cell_type": "code",
      "source": [
        "nd_arr = np.array([1,2,3])\n",
        "a = torch.from_numpy(nd_arr)\n",
        "a\n",
        "\n",
        "# numpy array로 변환\n",
        "b = torch.tensor([1, 2, 3, 4, 5])\n",
        "new_nd = b.numpy()\n",
        "new_nd[2] = 100\n",
        "print(new_nd)\n",
        "print(b)"
      ],
      "metadata": {
        "colab": {
          "base_uri": "https://localhost:8080/"
        },
        "id": "c66PRwQeFOKG",
        "outputId": "944f3379-6fc5-40ca-a9ff-71f1079702dc"
      },
      "execution_count": 22,
      "outputs": [
        {
          "output_type": "stream",
          "name": "stdout",
          "text": [
            "[  1   2 100   4   5]\n",
            "tensor([  1,   2, 100,   4,   5])\n"
          ]
        }
      ]
    },
    {
      "cell_type": "markdown",
      "source": [
        "## 1-6. 특정 텐서와 같은 사이즈, 무작위로 값을 채움"
      ],
      "metadata": {
        "id": "UF2dfTnCGhhP"
      }
    },
    {
      "cell_type": "code",
      "source": [
        "a = torch.ones(3, 4, dtype=torch.long)\n",
        "b = torch.rand_like(a, dtype=torch.float)\n",
        "b"
      ],
      "metadata": {
        "colab": {
          "base_uri": "https://localhost:8080/"
        },
        "id": "ClSsklPqFt1D",
        "outputId": "8e98f2a5-ed50-4faa-de42-531f395c34a6"
      },
      "execution_count": 20,
      "outputs": [
        {
          "output_type": "execute_result",
          "data": {
            "text/plain": [
              "tensor([[0.3540, 0.4812, 0.5245, 0.1170],\n",
              "        [0.9605, 0.6925, 0.9560, 0.8223],\n",
              "        [0.5634, 0.4274, 0.5608, 0.2907]])"
            ]
          },
          "metadata": {},
          "execution_count": 20
        }
      ]
    },
    {
      "cell_type": "code",
      "source": [],
      "metadata": {
        "id": "1VLRHvyuG-kz"
      },
      "execution_count": null,
      "outputs": []
    }
  ]
}