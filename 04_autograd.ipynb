{
  "nbformat": 4,
  "nbformat_minor": 0,
  "metadata": {
    "colab": {
      "provenance": [],
      "authorship_tag": "ABX9TyNmn5/fqd8SJq0R1zKHKdtQ",
      "include_colab_link": true
    },
    "kernelspec": {
      "name": "python3",
      "display_name": "Python 3"
    },
    "language_info": {
      "name": "python"
    }
  },
  "cells": [
    {
      "cell_type": "markdown",
      "metadata": {
        "id": "view-in-github",
        "colab_type": "text"
      },
      "source": [
        "<a href=\"https://colab.research.google.com/github/soeun1030/pythorch_README/blob/main/04_autograd.ipynb\" target=\"_parent\"><img src=\"https://colab.research.google.com/assets/colab-badge.svg\" alt=\"Open In Colab\"/></a>"
      ]
    },
    {
      "cell_type": "markdown",
      "source": [
        "# 04. 자동미분"
      ],
      "metadata": {
        "id": "C9mWFt2wuU_y"
      }
    },
    {
      "cell_type": "code",
      "execution_count": 10,
      "metadata": {
        "id": "l67w8cOGtqSJ"
      },
      "outputs": [],
      "source": [
        "import torch"
      ]
    },
    {
      "cell_type": "markdown",
      "source": [
        "## 4-1. requires_grad"
      ],
      "metadata": {
        "id": "d6lTNs7SuZyJ"
      }
    },
    {
      "cell_type": "code",
      "source": [
        "x = torch.ones(3, requires_grad=True)\n",
        "print(x)\n",
        "print(x.grad)\n",
        "print(x.grad_fn)\n",
        "print(x.requires_grad)"
      ],
      "metadata": {
        "colab": {
          "base_uri": "https://localhost:8080/"
        },
        "id": "hA-Rq4DWuZDT",
        "outputId": "c42271fe-2752-457c-96c8-72da7b6ed770"
      },
      "execution_count": 16,
      "outputs": [
        {
          "output_type": "stream",
          "name": "stdout",
          "text": [
            "tensor([1., 1., 1.], requires_grad=True)\n",
            "None\n",
            "None\n",
            "True\n"
          ]
        }
      ]
    },
    {
      "cell_type": "code",
      "source": [
        "y = 2 * x\n",
        "print(y)\n",
        "print(y.grad)\n",
        "print(y.grad_fn)\n",
        "print(y.requires_grad)"
      ],
      "metadata": {
        "colab": {
          "base_uri": "https://localhost:8080/"
        },
        "id": "VRt8R_gcumDb",
        "outputId": "01b00358-481a-450b-963d-74a28d1b4d65"
      },
      "execution_count": 17,
      "outputs": [
        {
          "output_type": "stream",
          "name": "stdout",
          "text": [
            "tensor([2., 2., 2.], grad_fn=<MulBackward0>)\n",
            "None\n",
            "<MulBackward0 object at 0x78fdaae40ee0>\n",
            "True\n"
          ]
        },
        {
          "output_type": "stream",
          "name": "stderr",
          "text": [
            "<ipython-input-17-9c3e4a13d414>:3: UserWarning: The .grad attribute of a Tensor that is not a leaf Tensor is being accessed. Its .grad attribute won't be populated during autograd.backward(). If you indeed want the .grad field to be populated for a non-leaf Tensor, use .retain_grad() on the non-leaf Tensor. If you access the non-leaf Tensor by mistake, make sure you access the leaf Tensor instead. See github.com/pytorch/pytorch/pull/30531 for more informations. (Triggered internally at aten/src/ATen/core/TensorBody.h:489.)\n",
            "  print(y.grad)\n"
          ]
        }
      ]
    },
    {
      "cell_type": "code",
      "source": [
        "z = y ** 2\n",
        "print(z)"
      ],
      "metadata": {
        "colab": {
          "base_uri": "https://localhost:8080/"
        },
        "id": "bcl35rAKutX4",
        "outputId": "b84ca7e7-6cae-4e4a-eb2b-6ed54502560c"
      },
      "execution_count": 18,
      "outputs": [
        {
          "output_type": "stream",
          "name": "stdout",
          "text": [
            "tensor([4., 4., 4.], grad_fn=<PowBackward0>)\n"
          ]
        }
      ]
    },
    {
      "cell_type": "markdown",
      "source": [
        "## 4-2. backward()\n",
        "### x -> y -> z 계산에서 역전파를 통해 기울기를 구함"
      ],
      "metadata": {
        "id": "NYO5jRR0u0aL"
      }
    },
    {
      "cell_type": "code",
      "source": [
        "result = z.sum()\n",
        "result.backward()"
      ],
      "metadata": {
        "id": "IkBqbDEsuxoe"
      },
      "execution_count": 19,
      "outputs": []
    },
    {
      "cell_type": "code",
      "source": [
        "print(z)\n",
        "print(x.grad)"
      ],
      "metadata": {
        "colab": {
          "base_uri": "https://localhost:8080/"
        },
        "id": "odM6cucqu9Ba",
        "outputId": "6fa15f88-0a46-4612-e24c-e9af96e0c6a5"
      },
      "execution_count": 20,
      "outputs": [
        {
          "output_type": "stream",
          "name": "stdout",
          "text": [
            "tensor([4., 4., 4.], grad_fn=<PowBackward0>)\n",
            "tensor([8., 8., 8.])\n"
          ]
        }
      ]
    },
    {
      "cell_type": "markdown",
      "source": [
        "## 4-3. no_grad()\n",
        "### 역전파를 중지"
      ],
      "metadata": {
        "id": "nIYIfIy-v_Lv"
      }
    },
    {
      "cell_type": "code",
      "source": [
        "x = torch.tensor(1.0, requires_grad=True)\n",
        "y = x ** 2\n",
        "print(x.requires_grad)\n",
        "print(y.requires_grad)\n",
        "\n",
        "with torch.no_grad():\n",
        "  y = x ** 2\n",
        "  print(x.requires_grad)\n",
        "  print(y.requires_grad)"
      ],
      "metadata": {
        "colab": {
          "base_uri": "https://localhost:8080/"
        },
        "id": "EnEL0b3Hvajf",
        "outputId": "f97f8d8d-d76f-4e44-aa12-6aa1e495b276"
      },
      "execution_count": 22,
      "outputs": [
        {
          "output_type": "stream",
          "name": "stdout",
          "text": [
            "True\n",
            "True\n",
            "True\n",
            "False\n"
          ]
        }
      ]
    },
    {
      "cell_type": "markdown",
      "source": [
        "## 4-4. detach()"
      ],
      "metadata": {
        "id": "7NguKwhtxO9B"
      }
    },
    {
      "cell_type": "code",
      "source": [
        "y.detach()"
      ],
      "metadata": {
        "colab": {
          "base_uri": "https://localhost:8080/"
        },
        "id": "qAfnsyNSwvuK",
        "outputId": "319411df-7cd0-4de7-e2c8-9f11d2dbfd45"
      },
      "execution_count": 23,
      "outputs": [
        {
          "output_type": "execute_result",
          "data": {
            "text/plain": [
              "tensor(1.)"
            ]
          },
          "metadata": {},
          "execution_count": 23
        }
      ]
    },
    {
      "cell_type": "markdown",
      "source": [
        "# 실습1. 선형회귀 실습\n"
      ],
      "metadata": {
        "id": "ENqWBQhZ1JyT"
      }
    },
    {
      "cell_type": "code",
      "source": [
        "import torch.nn as nn\n",
        "import torch.optim as optim\n",
        "import matplotlib.pyplot as plt\n",
        "\n",
        "## 1. 입출력 정의\n",
        "x = torch.linspace(0, 10, 100).view(-1, 1)  #입력 데이터\n",
        "y = 3 * x + 2 + torch.randn(100, 1) * 2  #출력 데이터\n",
        "\n",
        "## 2. 모델 정의\n",
        "class LinearRegressionModel(nn.Module):\n",
        "  def __init__(self):\n",
        "    super(LinearRegressionModel, self).__init__()\n",
        "    self.linear = nn.Linear(1, 1)  #입력1개 출력1개\n",
        "  def forward(self, x):  #foward : 순전파\n",
        "    return self.linear(x)\n",
        "\n",
        "model = LinearRegressionModel()\n",
        "\n",
        "## 3. 손실함수 정의 -> 손실함수 선택 : MSE, MAE ...\n",
        "loss_function = nn.MSELoss()\n",
        "\n",
        "## 4. 가중치 업데이트 -> 경사하강법 사용(어떤 것을 사용할지 선택)\n",
        "# lr = Learning rate(러닝메이트)\n",
        "optimizer = optim.SGD(model.parameters(), lr=0.01)  #SGD : 확률적 경사하강법\n",
        "\n",
        "## 5. 학습 반복\n",
        "epochs = 400\n",
        "losses = []\n",
        "\n",
        "for epoch in range(epochs):\n",
        "  optimizer.zero_grad()  #기울기 초기화\n",
        "  outputs = model(x)  #예측값 계산\n",
        "  loss = loss_function(outputs, y)  #손실 계산\n",
        "  loss.backward()  #역전파\n",
        "  optimizer.step()  #가중치 업데이트\n",
        "\n",
        "  losses.append(loss.item())  #손실값 저장\n",
        "\n",
        "  if (epochs % 50 == 0):\n",
        "    print(f'Epoch [{epoch + 1} / {epochs}], Loss: {loss.item():.4f}')\n",
        "\n",
        "## 6. 결과 시각화\n",
        "plt.figure(figsize=(10,5))\n",
        "\n",
        "## 손실 감소 그래프\n",
        "plt.subplot(1, 2, 1)\n",
        "plt.plot(losses)\n",
        "plt.ylim(0, 5)\n",
        "plt.title(\"Loss over Epochs\")\n",
        "plt.xlabel(\"Epochs\")\n",
        "plt.ylabel(\"Loss\")\n",
        "\n",
        "## 학습된 모델\n",
        "plt.subplot(1, 2, 2)\n",
        "plt.scatter(x.numpy(), y.numpy(), label=\"Original Data\")\n",
        "plt.plot(x.numpy(), model(x).detach().numpy(), label=\"Fitted Line\")\n",
        "plt.title(\"Linear Regression Fit\")\n",
        "plt.xlabel(\"x\")\n",
        "plt.ylabel(\"y\")\n",
        "plt.legend()\n",
        "\n",
        "plt.show()\n",
        "\n",
        "## 최종 모델 파라미터 확인\n",
        "print(\"Model parameters\")\n",
        "for name, param in model.named_parameters():\n",
        "  if param.requires_grad:\n",
        "    print(f\"{name} : {param.data}\")\n",
        "\n"
      ],
      "metadata": {
        "colab": {
          "base_uri": "https://localhost:8080/",
          "height": 1000
        },
        "id": "fX2rG3PQxo8O",
        "outputId": "5764b963-6942-44ca-ddd0-230a1c9a157f"
      },
      "execution_count": 41,
      "outputs": [
        {
          "output_type": "stream",
          "name": "stdout",
          "text": [
            "Epoch [1 / 400], Loss: 293.2315\n",
            "Epoch [2 / 400], Loss: 33.8315\n",
            "Epoch [3 / 400], Loss: 8.0916\n",
            "Epoch [4 / 400], Loss: 5.5264\n",
            "Epoch [5 / 400], Loss: 5.2599\n",
            "Epoch [6 / 400], Loss: 5.2215\n",
            "Epoch [7 / 400], Loss: 5.2058\n",
            "Epoch [8 / 400], Loss: 5.1925\n",
            "Epoch [9 / 400], Loss: 5.1796\n",
            "Epoch [10 / 400], Loss: 5.1668\n",
            "Epoch [11 / 400], Loss: 5.1541\n",
            "Epoch [12 / 400], Loss: 5.1415\n",
            "Epoch [13 / 400], Loss: 5.1291\n",
            "Epoch [14 / 400], Loss: 5.1168\n",
            "Epoch [15 / 400], Loss: 5.1046\n",
            "Epoch [16 / 400], Loss: 5.0926\n",
            "Epoch [17 / 400], Loss: 5.0806\n",
            "Epoch [18 / 400], Loss: 5.0688\n",
            "Epoch [19 / 400], Loss: 5.0571\n",
            "Epoch [20 / 400], Loss: 5.0455\n",
            "Epoch [21 / 400], Loss: 5.0340\n",
            "Epoch [22 / 400], Loss: 5.0227\n",
            "Epoch [23 / 400], Loss: 5.0114\n",
            "Epoch [24 / 400], Loss: 5.0003\n",
            "Epoch [25 / 400], Loss: 4.9893\n",
            "Epoch [26 / 400], Loss: 4.9784\n",
            "Epoch [27 / 400], Loss: 4.9676\n",
            "Epoch [28 / 400], Loss: 4.9569\n",
            "Epoch [29 / 400], Loss: 4.9463\n",
            "Epoch [30 / 400], Loss: 4.9358\n",
            "Epoch [31 / 400], Loss: 4.9254\n",
            "Epoch [32 / 400], Loss: 4.9151\n",
            "Epoch [33 / 400], Loss: 4.9049\n",
            "Epoch [34 / 400], Loss: 4.8948\n",
            "Epoch [35 / 400], Loss: 4.8849\n",
            "Epoch [36 / 400], Loss: 4.8750\n",
            "Epoch [37 / 400], Loss: 4.8652\n",
            "Epoch [38 / 400], Loss: 4.8555\n",
            "Epoch [39 / 400], Loss: 4.8459\n",
            "Epoch [40 / 400], Loss: 4.8364\n",
            "Epoch [41 / 400], Loss: 4.8270\n",
            "Epoch [42 / 400], Loss: 4.8177\n",
            "Epoch [43 / 400], Loss: 4.8085\n",
            "Epoch [44 / 400], Loss: 4.7994\n",
            "Epoch [45 / 400], Loss: 4.7903\n",
            "Epoch [46 / 400], Loss: 4.7814\n",
            "Epoch [47 / 400], Loss: 4.7725\n",
            "Epoch [48 / 400], Loss: 4.7637\n",
            "Epoch [49 / 400], Loss: 4.7551\n",
            "Epoch [50 / 400], Loss: 4.7465\n",
            "Epoch [51 / 400], Loss: 4.7380\n",
            "Epoch [52 / 400], Loss: 4.7295\n",
            "Epoch [53 / 400], Loss: 4.7212\n",
            "Epoch [54 / 400], Loss: 4.7129\n",
            "Epoch [55 / 400], Loss: 4.7047\n",
            "Epoch [56 / 400], Loss: 4.6966\n",
            "Epoch [57 / 400], Loss: 4.6886\n",
            "Epoch [58 / 400], Loss: 4.6807\n",
            "Epoch [59 / 400], Loss: 4.6728\n",
            "Epoch [60 / 400], Loss: 4.6650\n",
            "Epoch [61 / 400], Loss: 4.6573\n",
            "Epoch [62 / 400], Loss: 4.6497\n",
            "Epoch [63 / 400], Loss: 4.6422\n",
            "Epoch [64 / 400], Loss: 4.6347\n",
            "Epoch [65 / 400], Loss: 4.6273\n",
            "Epoch [66 / 400], Loss: 4.6199\n",
            "Epoch [67 / 400], Loss: 4.6127\n",
            "Epoch [68 / 400], Loss: 4.6055\n",
            "Epoch [69 / 400], Loss: 4.5984\n",
            "Epoch [70 / 400], Loss: 4.5913\n",
            "Epoch [71 / 400], Loss: 4.5844\n",
            "Epoch [72 / 400], Loss: 4.5775\n",
            "Epoch [73 / 400], Loss: 4.5706\n",
            "Epoch [74 / 400], Loss: 4.5638\n",
            "Epoch [75 / 400], Loss: 4.5571\n",
            "Epoch [76 / 400], Loss: 4.5505\n",
            "Epoch [77 / 400], Loss: 4.5439\n",
            "Epoch [78 / 400], Loss: 4.5374\n",
            "Epoch [79 / 400], Loss: 4.5310\n",
            "Epoch [80 / 400], Loss: 4.5246\n",
            "Epoch [81 / 400], Loss: 4.5183\n",
            "Epoch [82 / 400], Loss: 4.5120\n",
            "Epoch [83 / 400], Loss: 4.5059\n",
            "Epoch [84 / 400], Loss: 4.4997\n",
            "Epoch [85 / 400], Loss: 4.4937\n",
            "Epoch [86 / 400], Loss: 4.4876\n",
            "Epoch [87 / 400], Loss: 4.4817\n",
            "Epoch [88 / 400], Loss: 4.4758\n",
            "Epoch [89 / 400], Loss: 4.4700\n",
            "Epoch [90 / 400], Loss: 4.4642\n",
            "Epoch [91 / 400], Loss: 4.4585\n",
            "Epoch [92 / 400], Loss: 4.4528\n",
            "Epoch [93 / 400], Loss: 4.4472\n",
            "Epoch [94 / 400], Loss: 4.4417\n",
            "Epoch [95 / 400], Loss: 4.4362\n",
            "Epoch [96 / 400], Loss: 4.4307\n",
            "Epoch [97 / 400], Loss: 4.4254\n",
            "Epoch [98 / 400], Loss: 4.4200\n",
            "Epoch [99 / 400], Loss: 4.4147\n",
            "Epoch [100 / 400], Loss: 4.4095\n",
            "Epoch [101 / 400], Loss: 4.4043\n",
            "Epoch [102 / 400], Loss: 4.3992\n",
            "Epoch [103 / 400], Loss: 4.3942\n",
            "Epoch [104 / 400], Loss: 4.3891\n",
            "Epoch [105 / 400], Loss: 4.3842\n",
            "Epoch [106 / 400], Loss: 4.3792\n",
            "Epoch [107 / 400], Loss: 4.3744\n",
            "Epoch [108 / 400], Loss: 4.3695\n",
            "Epoch [109 / 400], Loss: 4.3648\n",
            "Epoch [110 / 400], Loss: 4.3600\n",
            "Epoch [111 / 400], Loss: 4.3553\n",
            "Epoch [112 / 400], Loss: 4.3507\n",
            "Epoch [113 / 400], Loss: 4.3461\n",
            "Epoch [114 / 400], Loss: 4.3416\n",
            "Epoch [115 / 400], Loss: 4.3371\n",
            "Epoch [116 / 400], Loss: 4.3326\n",
            "Epoch [117 / 400], Loss: 4.3282\n",
            "Epoch [118 / 400], Loss: 4.3238\n",
            "Epoch [119 / 400], Loss: 4.3195\n",
            "Epoch [120 / 400], Loss: 4.3152\n",
            "Epoch [121 / 400], Loss: 4.3110\n",
            "Epoch [122 / 400], Loss: 4.3068\n",
            "Epoch [123 / 400], Loss: 4.3026\n",
            "Epoch [124 / 400], Loss: 4.2985\n",
            "Epoch [125 / 400], Loss: 4.2944\n",
            "Epoch [126 / 400], Loss: 4.2904\n",
            "Epoch [127 / 400], Loss: 4.2864\n",
            "Epoch [128 / 400], Loss: 4.2824\n",
            "Epoch [129 / 400], Loss: 4.2785\n",
            "Epoch [130 / 400], Loss: 4.2746\n",
            "Epoch [131 / 400], Loss: 4.2708\n",
            "Epoch [132 / 400], Loss: 4.2670\n",
            "Epoch [133 / 400], Loss: 4.2632\n",
            "Epoch [134 / 400], Loss: 4.2595\n",
            "Epoch [135 / 400], Loss: 4.2558\n",
            "Epoch [136 / 400], Loss: 4.2522\n",
            "Epoch [137 / 400], Loss: 4.2486\n",
            "Epoch [138 / 400], Loss: 4.2450\n",
            "Epoch [139 / 400], Loss: 4.2414\n",
            "Epoch [140 / 400], Loss: 4.2379\n",
            "Epoch [141 / 400], Loss: 4.2344\n",
            "Epoch [142 / 400], Loss: 4.2310\n",
            "Epoch [143 / 400], Loss: 4.2276\n",
            "Epoch [144 / 400], Loss: 4.2242\n",
            "Epoch [145 / 400], Loss: 4.2209\n",
            "Epoch [146 / 400], Loss: 4.2176\n",
            "Epoch [147 / 400], Loss: 4.2143\n",
            "Epoch [148 / 400], Loss: 4.2111\n",
            "Epoch [149 / 400], Loss: 4.2078\n",
            "Epoch [150 / 400], Loss: 4.2047\n",
            "Epoch [151 / 400], Loss: 4.2015\n",
            "Epoch [152 / 400], Loss: 4.1984\n",
            "Epoch [153 / 400], Loss: 4.1953\n",
            "Epoch [154 / 400], Loss: 4.1923\n",
            "Epoch [155 / 400], Loss: 4.1892\n",
            "Epoch [156 / 400], Loss: 4.1863\n",
            "Epoch [157 / 400], Loss: 4.1833\n",
            "Epoch [158 / 400], Loss: 4.1804\n",
            "Epoch [159 / 400], Loss: 4.1775\n",
            "Epoch [160 / 400], Loss: 4.1746\n",
            "Epoch [161 / 400], Loss: 4.1717\n",
            "Epoch [162 / 400], Loss: 4.1689\n",
            "Epoch [163 / 400], Loss: 4.1661\n",
            "Epoch [164 / 400], Loss: 4.1634\n",
            "Epoch [165 / 400], Loss: 4.1606\n",
            "Epoch [166 / 400], Loss: 4.1579\n",
            "Epoch [167 / 400], Loss: 4.1552\n",
            "Epoch [168 / 400], Loss: 4.1526\n",
            "Epoch [169 / 400], Loss: 4.1499\n",
            "Epoch [170 / 400], Loss: 4.1473\n",
            "Epoch [171 / 400], Loss: 4.1448\n",
            "Epoch [172 / 400], Loss: 4.1422\n",
            "Epoch [173 / 400], Loss: 4.1397\n",
            "Epoch [174 / 400], Loss: 4.1372\n",
            "Epoch [175 / 400], Loss: 4.1347\n",
            "Epoch [176 / 400], Loss: 4.1322\n",
            "Epoch [177 / 400], Loss: 4.1298\n",
            "Epoch [178 / 400], Loss: 4.1274\n",
            "Epoch [179 / 400], Loss: 4.1250\n",
            "Epoch [180 / 400], Loss: 4.1227\n",
            "Epoch [181 / 400], Loss: 4.1203\n",
            "Epoch [182 / 400], Loss: 4.1180\n",
            "Epoch [183 / 400], Loss: 4.1157\n",
            "Epoch [184 / 400], Loss: 4.1135\n",
            "Epoch [185 / 400], Loss: 4.1112\n",
            "Epoch [186 / 400], Loss: 4.1090\n",
            "Epoch [187 / 400], Loss: 4.1068\n",
            "Epoch [188 / 400], Loss: 4.1046\n",
            "Epoch [189 / 400], Loss: 4.1025\n",
            "Epoch [190 / 400], Loss: 4.1003\n",
            "Epoch [191 / 400], Loss: 4.0982\n",
            "Epoch [192 / 400], Loss: 4.0961\n",
            "Epoch [193 / 400], Loss: 4.0941\n",
            "Epoch [194 / 400], Loss: 4.0920\n",
            "Epoch [195 / 400], Loss: 4.0900\n",
            "Epoch [196 / 400], Loss: 4.0880\n",
            "Epoch [197 / 400], Loss: 4.0860\n",
            "Epoch [198 / 400], Loss: 4.0840\n",
            "Epoch [199 / 400], Loss: 4.0821\n",
            "Epoch [200 / 400], Loss: 4.0801\n",
            "Epoch [201 / 400], Loss: 4.0782\n",
            "Epoch [202 / 400], Loss: 4.0763\n",
            "Epoch [203 / 400], Loss: 4.0744\n",
            "Epoch [204 / 400], Loss: 4.0726\n",
            "Epoch [205 / 400], Loss: 4.0708\n",
            "Epoch [206 / 400], Loss: 4.0689\n",
            "Epoch [207 / 400], Loss: 4.0671\n",
            "Epoch [208 / 400], Loss: 4.0653\n",
            "Epoch [209 / 400], Loss: 4.0636\n",
            "Epoch [210 / 400], Loss: 4.0618\n",
            "Epoch [211 / 400], Loss: 4.0601\n",
            "Epoch [212 / 400], Loss: 4.0584\n",
            "Epoch [213 / 400], Loss: 4.0567\n",
            "Epoch [214 / 400], Loss: 4.0550\n",
            "Epoch [215 / 400], Loss: 4.0533\n",
            "Epoch [216 / 400], Loss: 4.0517\n",
            "Epoch [217 / 400], Loss: 4.0501\n",
            "Epoch [218 / 400], Loss: 4.0485\n",
            "Epoch [219 / 400], Loss: 4.0469\n",
            "Epoch [220 / 400], Loss: 4.0453\n",
            "Epoch [221 / 400], Loss: 4.0437\n",
            "Epoch [222 / 400], Loss: 4.0421\n",
            "Epoch [223 / 400], Loss: 4.0406\n",
            "Epoch [224 / 400], Loss: 4.0391\n",
            "Epoch [225 / 400], Loss: 4.0376\n",
            "Epoch [226 / 400], Loss: 4.0361\n",
            "Epoch [227 / 400], Loss: 4.0346\n",
            "Epoch [228 / 400], Loss: 4.0332\n",
            "Epoch [229 / 400], Loss: 4.0317\n",
            "Epoch [230 / 400], Loss: 4.0303\n",
            "Epoch [231 / 400], Loss: 4.0289\n",
            "Epoch [232 / 400], Loss: 4.0274\n",
            "Epoch [233 / 400], Loss: 4.0261\n",
            "Epoch [234 / 400], Loss: 4.0247\n",
            "Epoch [235 / 400], Loss: 4.0233\n",
            "Epoch [236 / 400], Loss: 4.0220\n",
            "Epoch [237 / 400], Loss: 4.0206\n",
            "Epoch [238 / 400], Loss: 4.0193\n",
            "Epoch [239 / 400], Loss: 4.0180\n",
            "Epoch [240 / 400], Loss: 4.0167\n",
            "Epoch [241 / 400], Loss: 4.0154\n",
            "Epoch [242 / 400], Loss: 4.0141\n",
            "Epoch [243 / 400], Loss: 4.0129\n",
            "Epoch [244 / 400], Loss: 4.0116\n",
            "Epoch [245 / 400], Loss: 4.0104\n",
            "Epoch [246 / 400], Loss: 4.0092\n",
            "Epoch [247 / 400], Loss: 4.0080\n",
            "Epoch [248 / 400], Loss: 4.0068\n",
            "Epoch [249 / 400], Loss: 4.0056\n",
            "Epoch [250 / 400], Loss: 4.0044\n",
            "Epoch [251 / 400], Loss: 4.0032\n",
            "Epoch [252 / 400], Loss: 4.0021\n",
            "Epoch [253 / 400], Loss: 4.0010\n",
            "Epoch [254 / 400], Loss: 3.9998\n",
            "Epoch [255 / 400], Loss: 3.9987\n",
            "Epoch [256 / 400], Loss: 3.9976\n",
            "Epoch [257 / 400], Loss: 3.9965\n",
            "Epoch [258 / 400], Loss: 3.9954\n",
            "Epoch [259 / 400], Loss: 3.9944\n",
            "Epoch [260 / 400], Loss: 3.9933\n",
            "Epoch [261 / 400], Loss: 3.9922\n",
            "Epoch [262 / 400], Loss: 3.9912\n",
            "Epoch [263 / 400], Loss: 3.9902\n",
            "Epoch [264 / 400], Loss: 3.9891\n",
            "Epoch [265 / 400], Loss: 3.9881\n",
            "Epoch [266 / 400], Loss: 3.9871\n",
            "Epoch [267 / 400], Loss: 3.9861\n",
            "Epoch [268 / 400], Loss: 3.9852\n",
            "Epoch [269 / 400], Loss: 3.9842\n",
            "Epoch [270 / 400], Loss: 3.9832\n",
            "Epoch [271 / 400], Loss: 3.9823\n",
            "Epoch [272 / 400], Loss: 3.9813\n",
            "Epoch [273 / 400], Loss: 3.9804\n",
            "Epoch [274 / 400], Loss: 3.9795\n",
            "Epoch [275 / 400], Loss: 3.9785\n",
            "Epoch [276 / 400], Loss: 3.9776\n",
            "Epoch [277 / 400], Loss: 3.9767\n",
            "Epoch [278 / 400], Loss: 3.9759\n",
            "Epoch [279 / 400], Loss: 3.9750\n",
            "Epoch [280 / 400], Loss: 3.9741\n",
            "Epoch [281 / 400], Loss: 3.9732\n",
            "Epoch [282 / 400], Loss: 3.9724\n",
            "Epoch [283 / 400], Loss: 3.9715\n",
            "Epoch [284 / 400], Loss: 3.9707\n",
            "Epoch [285 / 400], Loss: 3.9699\n",
            "Epoch [286 / 400], Loss: 3.9691\n",
            "Epoch [287 / 400], Loss: 3.9682\n",
            "Epoch [288 / 400], Loss: 3.9674\n",
            "Epoch [289 / 400], Loss: 3.9666\n",
            "Epoch [290 / 400], Loss: 3.9658\n",
            "Epoch [291 / 400], Loss: 3.9651\n",
            "Epoch [292 / 400], Loss: 3.9643\n",
            "Epoch [293 / 400], Loss: 3.9635\n",
            "Epoch [294 / 400], Loss: 3.9628\n",
            "Epoch [295 / 400], Loss: 3.9620\n",
            "Epoch [296 / 400], Loss: 3.9613\n",
            "Epoch [297 / 400], Loss: 3.9605\n",
            "Epoch [298 / 400], Loss: 3.9598\n",
            "Epoch [299 / 400], Loss: 3.9591\n",
            "Epoch [300 / 400], Loss: 3.9584\n",
            "Epoch [301 / 400], Loss: 3.9577\n",
            "Epoch [302 / 400], Loss: 3.9570\n",
            "Epoch [303 / 400], Loss: 3.9563\n",
            "Epoch [304 / 400], Loss: 3.9556\n",
            "Epoch [305 / 400], Loss: 3.9549\n",
            "Epoch [306 / 400], Loss: 3.9542\n",
            "Epoch [307 / 400], Loss: 3.9536\n",
            "Epoch [308 / 400], Loss: 3.9529\n",
            "Epoch [309 / 400], Loss: 3.9523\n",
            "Epoch [310 / 400], Loss: 3.9516\n",
            "Epoch [311 / 400], Loss: 3.9510\n",
            "Epoch [312 / 400], Loss: 3.9503\n",
            "Epoch [313 / 400], Loss: 3.9497\n",
            "Epoch [314 / 400], Loss: 3.9491\n",
            "Epoch [315 / 400], Loss: 3.9485\n",
            "Epoch [316 / 400], Loss: 3.9479\n",
            "Epoch [317 / 400], Loss: 3.9473\n",
            "Epoch [318 / 400], Loss: 3.9467\n",
            "Epoch [319 / 400], Loss: 3.9461\n",
            "Epoch [320 / 400], Loss: 3.9455\n",
            "Epoch [321 / 400], Loss: 3.9449\n",
            "Epoch [322 / 400], Loss: 3.9443\n",
            "Epoch [323 / 400], Loss: 3.9438\n",
            "Epoch [324 / 400], Loss: 3.9432\n",
            "Epoch [325 / 400], Loss: 3.9427\n",
            "Epoch [326 / 400], Loss: 3.9421\n",
            "Epoch [327 / 400], Loss: 3.9416\n",
            "Epoch [328 / 400], Loss: 3.9410\n",
            "Epoch [329 / 400], Loss: 3.9405\n",
            "Epoch [330 / 400], Loss: 3.9399\n",
            "Epoch [331 / 400], Loss: 3.9394\n",
            "Epoch [332 / 400], Loss: 3.9389\n",
            "Epoch [333 / 400], Loss: 3.9384\n",
            "Epoch [334 / 400], Loss: 3.9379\n",
            "Epoch [335 / 400], Loss: 3.9374\n",
            "Epoch [336 / 400], Loss: 3.9369\n",
            "Epoch [337 / 400], Loss: 3.9364\n",
            "Epoch [338 / 400], Loss: 3.9359\n",
            "Epoch [339 / 400], Loss: 3.9354\n",
            "Epoch [340 / 400], Loss: 3.9349\n",
            "Epoch [341 / 400], Loss: 3.9345\n",
            "Epoch [342 / 400], Loss: 3.9340\n",
            "Epoch [343 / 400], Loss: 3.9335\n",
            "Epoch [344 / 400], Loss: 3.9331\n",
            "Epoch [345 / 400], Loss: 3.9326\n",
            "Epoch [346 / 400], Loss: 3.9322\n",
            "Epoch [347 / 400], Loss: 3.9317\n",
            "Epoch [348 / 400], Loss: 3.9313\n",
            "Epoch [349 / 400], Loss: 3.9308\n",
            "Epoch [350 / 400], Loss: 3.9304\n",
            "Epoch [351 / 400], Loss: 3.9300\n",
            "Epoch [352 / 400], Loss: 3.9295\n",
            "Epoch [353 / 400], Loss: 3.9291\n",
            "Epoch [354 / 400], Loss: 3.9287\n",
            "Epoch [355 / 400], Loss: 3.9283\n",
            "Epoch [356 / 400], Loss: 3.9279\n",
            "Epoch [357 / 400], Loss: 3.9275\n",
            "Epoch [358 / 400], Loss: 3.9271\n",
            "Epoch [359 / 400], Loss: 3.9267\n",
            "Epoch [360 / 400], Loss: 3.9263\n",
            "Epoch [361 / 400], Loss: 3.9259\n",
            "Epoch [362 / 400], Loss: 3.9255\n",
            "Epoch [363 / 400], Loss: 3.9251\n",
            "Epoch [364 / 400], Loss: 3.9247\n",
            "Epoch [365 / 400], Loss: 3.9244\n",
            "Epoch [366 / 400], Loss: 3.9240\n",
            "Epoch [367 / 400], Loss: 3.9236\n",
            "Epoch [368 / 400], Loss: 3.9233\n",
            "Epoch [369 / 400], Loss: 3.9229\n",
            "Epoch [370 / 400], Loss: 3.9226\n",
            "Epoch [371 / 400], Loss: 3.9222\n",
            "Epoch [372 / 400], Loss: 3.9219\n",
            "Epoch [373 / 400], Loss: 3.9215\n",
            "Epoch [374 / 400], Loss: 3.9212\n",
            "Epoch [375 / 400], Loss: 3.9208\n",
            "Epoch [376 / 400], Loss: 3.9205\n",
            "Epoch [377 / 400], Loss: 3.9202\n",
            "Epoch [378 / 400], Loss: 3.9198\n",
            "Epoch [379 / 400], Loss: 3.9195\n",
            "Epoch [380 / 400], Loss: 3.9192\n",
            "Epoch [381 / 400], Loss: 3.9189\n",
            "Epoch [382 / 400], Loss: 3.9186\n",
            "Epoch [383 / 400], Loss: 3.9182\n",
            "Epoch [384 / 400], Loss: 3.9179\n",
            "Epoch [385 / 400], Loss: 3.9176\n",
            "Epoch [386 / 400], Loss: 3.9173\n",
            "Epoch [387 / 400], Loss: 3.9170\n",
            "Epoch [388 / 400], Loss: 3.9167\n",
            "Epoch [389 / 400], Loss: 3.9164\n",
            "Epoch [390 / 400], Loss: 3.9161\n",
            "Epoch [391 / 400], Loss: 3.9158\n",
            "Epoch [392 / 400], Loss: 3.9156\n",
            "Epoch [393 / 400], Loss: 3.9153\n",
            "Epoch [394 / 400], Loss: 3.9150\n",
            "Epoch [395 / 400], Loss: 3.9147\n",
            "Epoch [396 / 400], Loss: 3.9144\n",
            "Epoch [397 / 400], Loss: 3.9142\n",
            "Epoch [398 / 400], Loss: 3.9139\n",
            "Epoch [399 / 400], Loss: 3.9136\n",
            "Epoch [400 / 400], Loss: 3.9134\n"
          ]
        },
        {
          "output_type": "display_data",
          "data": {
            "text/plain": [
              "<Figure size 1000x500 with 2 Axes>"
            ],
            "image/png": "[encoded data removed]"
          },
          "metadata": {}
        },
        {
          "output_type": "stream",
          "name": "stdout",
          "text": [
            "Model parameters\n",
            "linear.weight : tensor([[2.9806]])\n",
            "linear.bias : tensor([2.3249])\n"
          ]
        }
      ]
    },
    {
      "cell_type": "code",
      "source": [],
      "metadata": {
        "id": "gOyr4E1f16gO"
      },
      "execution_count": null,
      "outputs": []
    }
  ]
}