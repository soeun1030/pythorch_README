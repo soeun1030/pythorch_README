{
  "cells": [
    {
      "cell_type": "markdown",
      "metadata": {
        "id": "view-in-github",
        "colab_type": "text"
      },
      "source": [
        "<a href=\"https://colab.research.google.com/github/soeun1030/pythorch_README/blob/main/02_operations_quiz2.ipynb\" target=\"_parent\"><img src=\"https://colab.research.google.com/assets/colab-badge.svg\" alt=\"Open In Colab\"/></a>"
      ]
    },
    {
      "cell_type": "code",
      "source": [
        "import torch"
      ],
      "metadata": {
        "id": "XAQX_dAaotw5"
      },
      "execution_count": null,
      "outputs": []
    },
    {
      "cell_type": "markdown",
      "metadata": {
        "id": "kr8mswaxoA0q"
      },
      "source": [
        "## PyTorch Quiz 2 : 연산"
      ]
    },
    {
      "cell_type": "markdown",
      "metadata": {
        "id": "y8KlZcNToA0t"
      },
      "source": [
        "### 1. 덧셈과 뺄셈 연습\n",
        "1. [2, 4, 6]으로 초기화된 1D Tensor를 생성하세요.\n",
        "2. 각 요소에 5를 더한 Tensor를 출력하세요.\n",
        "3. 각 요소에서 3을 뺀 Tensor를 출력하세요.\n"
      ]
    },
    {
      "cell_type": "code",
      "execution_count": null,
      "metadata": {
        "colab": {
          "base_uri": "https://localhost:8080/"
        },
        "id": "kgnXK9bKoA0u",
        "outputId": "3d4bd091-19e8-4152-87f8-114191721a2e"
      },
      "outputs": [
        {
          "output_type": "stream",
          "name": "stdout",
          "text": [
            "tensor([ 7,  9, 11])\n",
            "tensor([-1,  1,  3])\n"
          ]
        }
      ],
      "source": [
        "a = torch.tensor([2,4,6])\n",
        "b = torch.add(a, 5)  #b= a + 5\n",
        "print(b)\n",
        "add = torch.sub(a, 3)\n",
        "print(add)"
      ]
    },
    {
      "cell_type": "markdown",
      "metadata": {
        "id": "Vz8hRpnnoA0v"
      },
      "source": [
        "### 2. Tensor 간의 연산\n",
        "1. 3x3 크기의 Tensor 2개를 생성하세요.\n",
        "2. 두 Tensor를 각각 더하고(+), 빼고(-), 곱하고(*), 나누세요(/)."
      ]
    },
    {
      "cell_type": "code",
      "execution_count": null,
      "metadata": {
        "colab": {
          "base_uri": "https://localhost:8080/"
        },
        "id": "g_g5Ll6UoA0w",
        "outputId": "d4f2cefb-d5f0-45dd-b7a3-5df66d5851c5"
      },
      "outputs": [
        {
          "output_type": "stream",
          "name": "stdout",
          "text": [
            "tensor([[1.5726, 0.4232, 1.0635],\n",
            "        [1.3415, 0.7873, 1.3628],\n",
            "        [0.9320, 1.1839, 1.2468]])\n",
            "tensor([[ 0.4272,  0.1658,  0.3997],\n",
            "        [-0.2281, -0.2041,  0.1166],\n",
            "        [-0.9260, -0.5456,  0.3007]])\n",
            "tensor([[0.5727, 0.0379, 0.2428],\n",
            "        [0.4369, 0.1445, 0.4609],\n",
            "        [0.0028, 0.2760, 0.3660]])\n",
            "tensor([[1.7458, 2.2881, 2.2041],\n",
            "        [0.7094, 0.5883, 1.1872],\n",
            "        [0.0032, 0.3691, 1.6357]])\n"
          ]
        }
      ],
      "source": [
        "a = torch.rand(3,3)\n",
        "b = torch.rand(3,3)\n",
        "\n",
        "add = a + b\n",
        "print(add)\n",
        "\n",
        "sub = a - b\n",
        "print(sub)\n",
        "\n",
        "mul = a * b\n",
        "print(mul)\n",
        "\n",
        "div = a / b\n",
        "print(div)"
      ]
    },
    {
      "cell_type": "markdown",
      "metadata": {
        "id": "Zy8WaLNHoA0w"
      },
      "source": [
        "### 3. 행렬의 내적 연산\n",
        "1. 2×3 크기의 Tensor A를 다음 값으로 생성하세요:\n",
        "  - `[[1,2,3], [4,5,6]]`\n",
        "2. 3×2 크기의 Tensor B를 다음 값으로 생성하세요:\n",
        "  - `[[7,8],[9,10],[11,12]]`\n",
        "3. 두 Tensor의 행렬 내적(행렬 곱) A×B를 계산하여 출력하세요."
      ]
    },
    {
      "cell_type": "code",
      "execution_count": null,
      "metadata": {
        "colab": {
          "base_uri": "https://localhost:8080/"
        },
        "id": "dW2RnJ9JoA0x",
        "outputId": "4d5dad5b-f8e0-4246-a171-ab5f421da30d"
      },
      "outputs": [
        {
          "output_type": "stream",
          "name": "stdout",
          "text": [
            "tensor([[ 58,  64],\n",
            "        [139, 154]])\n"
          ]
        }
      ],
      "source": [
        "a = torch.tensor([[1,2,3], [4,5,6]])\n",
        "b = torch.tensor([[7,8],[9,10],[11,12]])\n",
        "\n",
        "mul = torch.matmul(a,b)\n",
        "print(mul)"
      ]
    },
    {
      "cell_type": "markdown",
      "metadata": {
        "id": "5A8Jxxj_oA0x"
      },
      "source": [
        "### 4. 행렬 연산과 값 제한\n",
        "1. 이전 문제에서 계산된 행렬 R(결과 행렬 A×B)를 사용하세요\n",
        "2. 행렬 R의 각 요소에 10을 더하세요.\n",
        "3. R의 각 요소를 100보다 큰 값은 100으로, 나머지는 그대로 유지하도록 제한하세요."
      ]
    },
    {
      "cell_type": "code",
      "execution_count": null,
      "metadata": {
        "colab": {
          "base_uri": "https://localhost:8080/"
        },
        "id": "9C9mzukZoA0x",
        "outputId": "1fed869c-6d42-4a83-afae-da30fe94ae89"
      },
      "outputs": [
        {
          "output_type": "stream",
          "name": "stdout",
          "text": [
            "tensor([[ 68,  74],\n",
            "        [149, 164]])\n",
            "tensor([[100, 100],\n",
            "        [149, 164]])\n"
          ]
        }
      ],
      "source": [
        "a = torch.tensor([[1,2,3], [4,5,6]])\n",
        "b = torch.tensor([[7,8],[9,10],[11,12]])\n",
        "\n",
        "mul = torch.matmul(a,b)\n",
        "\n",
        "c = torch.add(mul, 10)  # c = mul + 10\n",
        "print(c)\n",
        "\n",
        "d = torch.clamp(c, min=100)\n",
        "print(d)\n"
      ]
    },
    {
      "cell_type": "markdown",
      "metadata": {
        "id": "APg778hdoA0y"
      },
      "source": [
        "### 5. 행렬의 열별 합계 계산\n",
        "1. 5×5 크기의 Tensor M을 다음 값으로 생성하세요\n",
        "    ```\n",
        "    [[1, 2, 3, 4, 5],\n",
        "     [6, 7, 8, 9, 10],\n",
        "     [11, 12, 13, 14, 15],\n",
        "     [16, 17, 18, 19, 20],\n",
        "     [21, 22, 23, 24, 25]]\n",
        "    ```\n",
        "\n",
        "2. 행렬 M의 각 열의 합계를 계산하세요."
      ]
    },
    {
      "cell_type": "code",
      "execution_count": null,
      "metadata": {
        "colab": {
          "base_uri": "https://localhost:8080/"
        },
        "id": "TaCCVAtOoA0y",
        "outputId": "70698341-d59c-4fc2-ead5-2157ea988ddf"
      },
      "outputs": [
        {
          "output_type": "stream",
          "name": "stdout",
          "text": [
            "tensor([55, 60, 65, 70, 75])\n"
          ]
        }
      ],
      "source": [
        "a = torch.tensor([[1, 2, 3, 4, 5],\n",
        "  [6, 7, 8, 9, 10],\n",
        "  [11, 12, 13, 14, 15],\n",
        "  [16, 17, 18, 19, 20],\n",
        "  [21, 22, 23, 24, 25]])\n",
        "\n",
        "b = torch.sum(a, dim=0)\n",
        "print(b)"
      ]
    },
    {
      "cell_type": "code",
      "source": [],
      "metadata": {
        "id": "voLMrSVSqEid"
      },
      "execution_count": null,
      "outputs": []
    }
  ],
  "metadata": {
    "language_info": {
      "name": "python"
    },
    "colab": {
      "provenance": [],
      "include_colab_link": true
    },
    "kernelspec": {
      "name": "python3",
      "display_name": "Python 3"
    }
  },
  "nbformat": 4,
  "nbformat_minor": 0
}