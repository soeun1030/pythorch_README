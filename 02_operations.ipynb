{
  "nbformat": 4,
  "nbformat_minor": 0,
  "metadata": {
    "colab": {
      "provenance": [],
      "authorship_tag": "ABX9TyMFSHlnC3WpIJ0CoNEOzvaw",
      "include_colab_link": true
    },
    "kernelspec": {
      "name": "python3",
      "display_name": "Python 3"
    },
    "language_info": {
      "name": "python"
    }
  },
  "cells": [
    {
      "cell_type": "markdown",
      "metadata": {
        "id": "view-in-github",
        "colab_type": "text"
      },
      "source": [
        "<a href=\"https://colab.research.google.com/github/soeun1030/pythorch_README/blob/main/02_operations.ipynb\" target=\"_parent\"><img src=\"https://colab.research.google.com/assets/colab-badge.svg\" alt=\"Open In Colab\"/></a>"
      ]
    },
    {
      "cell_type": "markdown",
      "source": [
        "# 02. 텐서의 연산"
      ],
      "metadata": {
        "id": "LSh4Mmy_Y9nt"
      }
    },
    {
      "cell_type": "code",
      "execution_count": 1,
      "metadata": {
        "id": "TmdlorJ3Y5xw"
      },
      "outputs": [],
      "source": [
        "import torch"
      ]
    },
    {
      "cell_type": "markdown",
      "source": [
        "## 2-1. 산술 연산"
      ],
      "metadata": {
        "id": "fB00bD4rZA1s"
      }
    },
    {
      "cell_type": "code",
      "source": [
        "tensor = torch.rand(2,2)\n",
        "print(tensor)\n",
        "\n",
        "tensor = tensor * 2\n",
        "print(tensor)\n",
        "\n",
        "tensor = tensor + 1\n",
        "print(tensor)"
      ],
      "metadata": {
        "colab": {
          "base_uri": "https://localhost:8080/"
        },
        "id": "W4vEtUtYZAQw",
        "outputId": "ce2cea04-2ae7-421e-9c70-fa70cf190296"
      },
      "execution_count": 3,
      "outputs": [
        {
          "output_type": "stream",
          "name": "stdout",
          "text": [
            "tensor([[0.1108, 0.0508],\n",
            "        [0.8657, 0.6454]])\n",
            "tensor([[0.2217, 0.1015],\n",
            "        [1.7314, 1.2908]])\n",
            "tensor([[1.2217, 1.1015],\n",
            "        [2.7314, 2.2908]])\n"
          ]
        }
      ]
    },
    {
      "cell_type": "code",
      "source": [
        "x = torch.rand(2,2)\n",
        "y = torch.rand(2,2)\n",
        "add = torch.add(x,y)\n",
        "print(x, y)\n",
        "print(x+y)\n",
        "print(add)\n",
        "\n",
        "# in-placd 바꿔치기 연산\n",
        "y.add_(x)  #더하기한 결과를 y에 덮어씌운 것\n",
        "print(y)\n",
        "\n",
        "# 빼기\n",
        "sub = torch.sub(x,y)\n",
        "print(x-y)\n",
        "print(sub)\n",
        "\n",
        "# 곱하기\n",
        "mul = torch.mul(x,y)\n",
        "print(x*y)\n",
        "print(mul)\n",
        "\n",
        "# 나누기\n",
        "div = torch.div(x,y)\n",
        "print(x/y)\n",
        "print(div)"
      ],
      "metadata": {
        "colab": {
          "base_uri": "https://localhost:8080/"
        },
        "id": "muQrCYdtZLOl",
        "outputId": "4f8768e8-d450-498b-ea76-46e32d76fb72"
      },
      "execution_count": 9,
      "outputs": [
        {
          "output_type": "stream",
          "name": "stdout",
          "text": [
            "tensor([[0.9896, 0.9342],\n",
            "        [0.0531, 0.1183]]) tensor([[0.9892, 0.3742],\n",
            "        [0.4032, 0.5288]])\n",
            "tensor([[1.9788, 1.3084],\n",
            "        [0.4563, 0.6471]])\n",
            "tensor([[1.9788, 1.3084],\n",
            "        [0.4563, 0.6471]])\n",
            "tensor([[1.9788, 1.3084],\n",
            "        [0.4563, 0.6471]])\n",
            "tensor([[-0.9892, -0.3742],\n",
            "        [-0.4032, -0.5288]])\n",
            "tensor([[-0.9892, -0.3742],\n",
            "        [-0.4032, -0.5288]])\n",
            "tensor([[1.9583, 1.2224],\n",
            "        [0.0242, 0.0765]])\n",
            "tensor([[1.9583, 1.2224],\n",
            "        [0.0242, 0.0765]])\n",
            "tensor([[0.5001, 0.7140],\n",
            "        [0.1164, 0.1828]])\n",
            "tensor([[0.5001, 0.7140],\n",
            "        [0.1164, 0.1828]])\n"
          ]
        }
      ]
    },
    {
      "cell_type": "code",
      "source": [],
      "metadata": {
        "id": "Rq0VVkw4ZsRy"
      },
      "execution_count": null,
      "outputs": []
    }
  ]
}