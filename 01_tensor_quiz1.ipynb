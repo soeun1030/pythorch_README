{
  "cells": [
    {
      "cell_type": "markdown",
      "metadata": {
        "id": "view-in-github",
        "colab_type": "text"
      },
      "source": [
        "<a href=\"https://colab.research.google.com/github/soeun1030/pythorch_README/blob/main/01_tensor_quiz1.ipynb\" target=\"_parent\"><img src=\"https://colab.research.google.com/assets/colab-badge.svg\" alt=\"Open In Colab\"/></a>"
      ]
    },
    {
      "cell_type": "code",
      "source": [
        "import torch\n",
        "import numpy as np"
      ],
      "metadata": {
        "id": "GPtpvypjJvA6"
      },
      "execution_count": 3,
      "outputs": []
    },
    {
      "cell_type": "markdown",
      "metadata": {
        "id": "gxvV-DP4I3Vt"
      },
      "source": [
        "## PyTorch Quiz 1 : Tensor 초기화"
      ]
    },
    {
      "cell_type": "markdown",
      "metadata": {
        "id": "sfcudrXuI3Vv"
      },
      "source": [
        "### 1. 빈 Tensor 생성하기\n",
        "다음 조건에 맞는 Tensor를 생성하세요.\n",
        "- 3x4 크기의 Tensor\n",
        "- 값이 초기화되지 않은 상태"
      ]
    },
    {
      "cell_type": "code",
      "execution_count": 4,
      "metadata": {
        "colab": {
          "base_uri": "https://localhost:8080/"
        },
        "id": "HJ3rl2GxI3Vw",
        "outputId": "04995f24-3a9f-43e6-fc27-12a877857dc8"
      },
      "outputs": [
        {
          "output_type": "stream",
          "name": "stdout",
          "text": [
            "tensor([[-9.3112e+11,  3.2932e-41,  1.5905e-42,  5.3756e-11],\n",
            "        [-9.3113e+11,  3.2932e-41,  5.1848e-44,  1.3563e-19],\n",
            "        [-9.3113e+11,  3.2932e-41,  1.5961e-42,  2.7909e+23]])\n"
          ]
        }
      ],
      "source": [
        "tensor = torch.empty(3, 4)\n",
        "print(tensor)"
      ]
    },
    {
      "cell_type": "markdown",
      "metadata": {
        "id": "L5Rdmqj5I3Vx"
      },
      "source": [
        "### 2. 0으로 채워진 Tensor 생성하기\n",
        "다음과 같은 Tensor를 생성하세요.\n",
        "- 2x5x3 크기의 Tensor\n",
        "- 데이터 타입은 float64"
      ]
    },
    {
      "cell_type": "code",
      "execution_count": 5,
      "metadata": {
        "colab": {
          "base_uri": "https://localhost:8080/"
        },
        "id": "laxdNP-8I3Vx",
        "outputId": "e7f336e7-83f7-4476-ac3b-f38416d8207f"
      },
      "outputs": [
        {
          "output_type": "stream",
          "name": "stdout",
          "text": [
            "tensor([[[0., 0., 0.],\n",
            "         [0., 0., 0.],\n",
            "         [0., 0., 0.],\n",
            "         [0., 0., 0.],\n",
            "         [0., 0., 0.]],\n",
            "\n",
            "        [[0., 0., 0.],\n",
            "         [0., 0., 0.],\n",
            "         [0., 0., 0.],\n",
            "         [0., 0., 0.],\n",
            "         [0., 0., 0.]]], dtype=torch.float64)\n"
          ]
        }
      ],
      "source": [
        "a = torch.zeros(2, 5, 3, dtype=torch.float64)\n",
        "print(a)"
      ]
    },
    {
      "cell_type": "markdown",
      "metadata": {
        "id": "XN6sBjj2I3Vy"
      },
      "source": [
        "### 3. 1로 채워진 Tensor 생성하기\n",
        "다음 조건에 맞는 Tensor를 생성하세요.\n",
        "- 4x4 크기의 Tensor\n",
        "- 데이터 타입은 int"
      ]
    },
    {
      "cell_type": "code",
      "execution_count": 6,
      "metadata": {
        "colab": {
          "base_uri": "https://localhost:8080/"
        },
        "id": "NAPK3EyEI3Vy",
        "outputId": "a32c7885-cf37-428b-feac-deeef25534cb"
      },
      "outputs": [
        {
          "output_type": "stream",
          "name": "stdout",
          "text": [
            "tensor([[1, 1, 1, 1],\n",
            "        [1, 1, 1, 1],\n",
            "        [1, 1, 1, 1],\n",
            "        [1, 1, 1, 1]], dtype=torch.int32)\n"
          ]
        }
      ],
      "source": [
        "a = torch.ones(4, 4, dtype=torch.int)\n",
        "print(a)"
      ]
    },
    {
      "cell_type": "markdown",
      "metadata": {
        "id": "-xiVmxRTI3Vy"
      },
      "source": [
        "### 4. 랜덤 값으로 채워진 Tensor 생성하기\n",
        "다음 조건에 맞는 Tensor를 생성하세요.\n",
        "- 3x3 크기의 Tensor\n",
        "- 모든 값이 0과 1 사이의 랜덤 값"
      ]
    },
    {
      "cell_type": "code",
      "execution_count": 7,
      "metadata": {
        "colab": {
          "base_uri": "https://localhost:8080/"
        },
        "id": "_sxkaXbII3Vy",
        "outputId": "930a5873-c6bf-4135-a155-e6a7a7e62807"
      },
      "outputs": [
        {
          "output_type": "stream",
          "name": "stdout",
          "text": [
            "tensor([[0.6598, 0.6484, 0.1577],\n",
            "        [0.0413, 0.3627, 0.4302],\n",
            "        [0.0432, 0.5253, 0.1674]])\n"
          ]
        }
      ],
      "source": [
        "a = torch.rand(3, 3)\n",
        "print(a)"
      ]
    },
    {
      "cell_type": "markdown",
      "metadata": {
        "id": "XIcznjZHI3Vz"
      },
      "source": [
        "### 5. 다차원 Tensor 생성하기\n",
        "다음과 같은 다차원 Tensor를 생성하세요.\n",
        "- 값이 다음과 같은 2x3의 2D 배열\n",
        "    ```\n",
        "    [[1, 2, 3],\n",
        "     [4, 5, 6]]\n",
        "    ```"
      ]
    },
    {
      "cell_type": "code",
      "execution_count": 18,
      "metadata": {
        "colab": {
          "base_uri": "https://localhost:8080/"
        },
        "id": "WTorIapYI3Vz",
        "outputId": "d2dbde98-9ff5-4b3c-deda-48f3ae250dcc"
      },
      "outputs": [
        {
          "output_type": "stream",
          "name": "stdout",
          "text": [
            "[[1 2 3]\n",
            " [4 5 6]]\n",
            "tensor([[1, 2, 3],\n",
            "        [4, 5, 6]])\n",
            "tensor([[1, 2, 3],\n",
            "        [4, 5, 6]])\n"
          ]
        }
      ],
      "source": [
        "nd_arr = np.array([[1, 2, 3], [4, 5, 6]])\n",
        "tensor = torch.from_numpy(nd_arr)\n",
        "new_nd = tensor.numpy()\n",
        "print(new_nd)\n",
        "print(tensor)\n",
        "\n",
        "# 깔끔한 정답\n",
        "a = torch.tensor([[1, 2, 3], [4, 5, 6]])\n",
        "print(a)"
      ]
    },
    {
      "cell_type": "markdown",
      "metadata": {
        "id": "VkaRWWNTI3Vz"
      },
      "source": [
        "### 6. Tensor의 값을 변경하기\n",
        "1. 표준정규분포의 값을 랜덤으로 갖는 2x2 Tensor를 생성하세요.\n",
        "2. 생성된 Tensor의 값을 모두 0으로 바꿔보세요."
      ]
    },
    {
      "cell_type": "code",
      "execution_count": 19,
      "metadata": {
        "colab": {
          "base_uri": "https://localhost:8080/"
        },
        "id": "QVemQ7arI3Vz",
        "outputId": "4ce333fb-bb29-48ae-ab16-1252c042d98a"
      },
      "outputs": [
        {
          "output_type": "stream",
          "name": "stdout",
          "text": [
            "tensor([[0., 0.],\n",
            "        [0., 0.]])\n",
            "tensor([[0., 0.],\n",
            "        [0., 0.]])\n"
          ]
        }
      ],
      "source": [
        "a = torch.randn(2, 2)\n",
        "b = a.zero_()\n",
        "print(b)\n",
        "\n",
        "# 정석 정답\n",
        "c = torch.zeros_like(a)\n",
        "print(c)"
      ]
    },
    {
      "cell_type": "code",
      "source": [],
      "metadata": {
        "id": "9WENxIX7KrJH"
      },
      "execution_count": null,
      "outputs": []
    }
  ],
  "metadata": {
    "language_info": {
      "name": "python"
    },
    "colab": {
      "provenance": [],
      "include_colab_link": true
    },
    "kernelspec": {
      "name": "python3",
      "display_name": "Python 3"
    }
  },
  "nbformat": 4,
  "nbformat_minor": 0
}