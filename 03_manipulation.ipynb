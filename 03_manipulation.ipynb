{
  "nbformat": 4,
  "nbformat_minor": 0,
  "metadata": {
    "colab": {
      "provenance": [],
      "authorship_tag": "ABX9TyMqfWVxi7aLNYHSNlOjTndI",
      "include_colab_link": true
    },
    "kernelspec": {
      "name": "python3",
      "display_name": "Python 3"
    },
    "language_info": {
      "name": "python"
    }
  },
  "cells": [
    {
      "cell_type": "markdown",
      "metadata": {
        "id": "view-in-github",
        "colab_type": "text"
      },
      "source": [
        "<a href=\"https://colab.research.google.com/github/soeun1030/pythorch_README/blob/main/03_manipulation.ipynb\" target=\"_parent\"><img src=\"https://colab.research.google.com/assets/colab-badge.svg\" alt=\"Open In Colab\"/></a>"
      ]
    },
    {
      "cell_type": "markdown",
      "source": [
        "# 03. Tensor의 조작\n",
        "## 3-1. 인덱싱, 슬라이싱\n",
        "### : numpy처럼 활용"
      ],
      "metadata": {
        "id": "nGIt7EbEx4IQ"
      }
    },
    {
      "cell_type": "code",
      "execution_count": null,
      "metadata": {
        "id": "LAwdkpGox3m_"
      },
      "outputs": [],
      "source": [
        "import torch"
      ]
    },
    {
      "cell_type": "code",
      "source": [
        "tensor = torch.tensor([[1,2], [3,4]])\n",
        "print(tensor[0,1])  #2\n",
        "print(tensor[0, :])  #[1,2]\n",
        "\n",
        "a = torch.tensor([1,2,3,4,5])\n",
        "print(a[-1])  #5\n",
        "print(a[-2:])  #[4,5]\n",
        "\n",
        "b = torch.tensor([[1,2,3], [4,5,6], [7,8,9]])\n",
        "c = b[b > 5]\n",
        "d = b[b % 2 == 0]\n",
        "e = b[[0,1], [1,2]]\n",
        "print(c)  #[6,7,8,9]\n",
        "print(d)  #[2,4,6,8]\n",
        "print(e)  #[2,6]"
      ],
      "metadata": {
        "colab": {
          "base_uri": "https://localhost:8080/"
        },
        "id": "LPEsT6KKyK7x",
        "outputId": "0efb00eb-a6d4-43cb-aadd-9a90a4b4d3f0"
      },
      "execution_count": null,
      "outputs": [
        {
          "output_type": "stream",
          "name": "stdout",
          "text": [
            "tensor(2)\n",
            "tensor([1, 2])\n",
            "tensor(5)\n",
            "tensor([4, 5])\n",
            "tensor([6, 7, 8, 9])\n",
            "tensor([2, 4, 6, 8])\n",
            "tensor([2, 6])\n"
          ]
        }
      ]
    },
    {
      "cell_type": "code",
      "source": [],
      "metadata": {
        "id": "lg4uWY94yVzz"
      },
      "execution_count": null,
      "outputs": []
    }
  ]
}