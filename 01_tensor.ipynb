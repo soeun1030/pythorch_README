{
  "nbformat": 4,
  "nbformat_minor": 0,
  "metadata": {
    "colab": {
      "provenance": [],
      "gpuType": "T4",
      "authorship_tag": "ABX9TyOc7nheTOXLtHBcTclB3tam",
      "include_colab_link": true
    },
    "kernelspec": {
      "name": "python3",
      "display_name": "Python 3"
    },
    "language_info": {
      "name": "python"
    },
    "accelerator": "GPU"
  },
  "cells": [
    {
      "cell_type": "markdown",
      "metadata": {
        "id": "view-in-github",
        "colab_type": "text"
      },
      "source": [
        "<a href=\"https://colab.research.google.com/github/soeun1030/pythorch_README/blob/main/01_tensor.ipynb\" target=\"_parent\"><img src=\"https://colab.research.google.com/assets/colab-badge.svg\" alt=\"Open In Colab\"/></a>"
      ]
    },
    {
      "cell_type": "code",
      "source": [
        "!pip3 install torch"
      ],
      "metadata": {
        "colab": {
          "base_uri": "https://localhost:8080/"
        },
        "id": "QoJU62mz5jEb",
        "outputId": "e5493458-3490-42d5-93a6-65f976505181"
      },
      "execution_count": null,
      "outputs": [
        {
          "output_type": "stream",
          "name": "stdout",
          "text": [
            "Requirement already satisfied: torch in /usr/local/lib/python3.10/dist-packages (2.5.1+cu121)\n",
            "Requirement already satisfied: filelock in /usr/local/lib/python3.10/dist-packages (from torch) (3.16.1)\n",
            "Requirement already satisfied: typing-extensions>=4.8.0 in /usr/local/lib/python3.10/dist-packages (from torch) (4.12.2)\n",
            "Requirement already satisfied: networkx in /usr/local/lib/python3.10/dist-packages (from torch) (3.4.2)\n",
            "Requirement already satisfied: jinja2 in /usr/local/lib/python3.10/dist-packages (from torch) (3.1.5)\n",
            "Requirement already satisfied: fsspec in /usr/local/lib/python3.10/dist-packages (from torch) (2024.10.0)\n",
            "Requirement already satisfied: sympy==1.13.1 in /usr/local/lib/python3.10/dist-packages (from torch) (1.13.1)\n",
            "Requirement already satisfied: mpmath<1.4,>=1.1.0 in /usr/local/lib/python3.10/dist-packages (from sympy==1.13.1->torch) (1.3.0)\n",
            "Requirement already satisfied: MarkupSafe>=2.0 in /usr/local/lib/python3.10/dist-packages (from jinja2->torch) (3.0.2)\n"
          ]
        }
      ]
    },
    {
      "cell_type": "code",
      "source": [
        "!pip3 install torchvision"
      ],
      "metadata": {
        "colab": {
          "base_uri": "https://localhost:8080/"
        },
        "id": "ZLPhkWJu5zrj",
        "outputId": "4e51268a-36f6-439d-f795-fd79d0e1042d"
      },
      "execution_count": null,
      "outputs": [
        {
          "output_type": "stream",
          "name": "stdout",
          "text": [
            "Requirement already satisfied: torchvision in /usr/local/lib/python3.10/dist-packages (0.20.1+cu121)\n",
            "Requirement already satisfied: numpy in /usr/local/lib/python3.10/dist-packages (from torchvision) (1.26.4)\n",
            "Requirement already satisfied: torch==2.5.1 in /usr/local/lib/python3.10/dist-packages (from torchvision) (2.5.1+cu121)\n",
            "Requirement already satisfied: pillow!=8.3.*,>=5.3.0 in /usr/local/lib/python3.10/dist-packages (from torchvision) (11.1.0)\n",
            "Requirement already satisfied: filelock in /usr/local/lib/python3.10/dist-packages (from torch==2.5.1->torchvision) (3.16.1)\n",
            "Requirement already satisfied: typing-extensions>=4.8.0 in /usr/local/lib/python3.10/dist-packages (from torch==2.5.1->torchvision) (4.12.2)\n",
            "Requirement already satisfied: networkx in /usr/local/lib/python3.10/dist-packages (from torch==2.5.1->torchvision) (3.4.2)\n",
            "Requirement already satisfied: jinja2 in /usr/local/lib/python3.10/dist-packages (from torch==2.5.1->torchvision) (3.1.5)\n",
            "Requirement already satisfied: fsspec in /usr/local/lib/python3.10/dist-packages (from torch==2.5.1->torchvision) (2024.10.0)\n",
            "Requirement already satisfied: sympy==1.13.1 in /usr/local/lib/python3.10/dist-packages (from torch==2.5.1->torchvision) (1.13.1)\n",
            "Requirement already satisfied: mpmath<1.4,>=1.1.0 in /usr/local/lib/python3.10/dist-packages (from sympy==1.13.1->torch==2.5.1->torchvision) (1.3.0)\n",
            "Requirement already satisfied: MarkupSafe>=2.0 in /usr/local/lib/python3.10/dist-packages (from jinja2->torch==2.5.1->torchvision) (3.0.2)\n"
          ]
        }
      ]
    },
    {
      "cell_type": "code",
      "source": [
        "import torch\n",
        "torch.__version__"
      ],
      "metadata": {
        "colab": {
          "base_uri": "https://localhost:8080/",
          "height": 35
        },
        "id": "DXlq-9cS57PW",
        "outputId": "0c82a7b0-5bc8-4914-f771-d70658caca96"
      },
      "execution_count": 3,
      "outputs": [
        {
          "output_type": "execute_result",
          "data": {
            "text/plain": [
              "'2.5.1+cu121'"
            ],
            "application/vnd.google.colaboratory.intrinsic+json": {
              "type": "string"
            }
          },
          "metadata": {},
          "execution_count": 3
        }
      ]
    },
    {
      "cell_type": "code",
      "source": [
        "import numpy as np"
      ],
      "metadata": {
        "id": "4oJhR8UlDMrW"
      },
      "execution_count": null,
      "outputs": []
    },
    {
      "cell_type": "markdown",
      "source": [
        "#01. 텐서 초기화\n",
        "### 초기화 : 텐서에 특정 값을 채워서 생성하는 것\n",
        "\n",
        "## 1-1. 초기화되지 않은 Tensor\n",
        "### 초기화되지 않은 텐서 : 특정한 값이 채워지지 않은 상태로 생성하는 것"
      ],
      "metadata": {
        "id": "7ymvwEwEDkZB"
      }
    },
    {
      "cell_type": "code",
      "source": [
        "tensor = torch.empty(4, 2)\n",
        "print(tensor)"
      ],
      "metadata": {
        "colab": {
          "base_uri": "https://localhost:8080/"
        },
        "id": "tj823wDzDnQB",
        "outputId": "b77d741a-6c4e-41be-8637-4113854036d6"
      },
      "execution_count": null,
      "outputs": [
        {
          "output_type": "stream",
          "name": "stdout",
          "text": [
            "tensor([[1.5554e-43, 1.5975e-43],\n",
            "        [1.3873e-43, 1.4574e-43],\n",
            "        [1.4013e-44, 1.6255e-43],\n",
            "        [1.5554e-43, 1.5975e-43]])\n"
          ]
        }
      ]
    },
    {
      "cell_type": "markdown",
      "source": [
        "## 1-2. 상수로 초기화된 Tensor\n",
        "### - torch.zeros()\n",
        "### - torch.ones()"
      ],
      "metadata": {
        "id": "IJ4e6Vq_D8YK"
      }
    },
    {
      "cell_type": "code",
      "source": [
        "a = torch.ones(3, 4, dtype=torch.long)  #dytpe : 데이터 타입 지정\n",
        "b = torch.zeros(2, 2)\n",
        "print(a)\n",
        "print(b)"
      ],
      "metadata": {
        "colab": {
          "base_uri": "https://localhost:8080/"
        },
        "id": "-pwUrkjaDu0J",
        "outputId": "1b3c6937-7323-423c-f40f-ba8956abe9bd"
      },
      "execution_count": null,
      "outputs": [
        {
          "output_type": "stream",
          "name": "stdout",
          "text": [
            "tensor([[1, 1, 1, 1],\n",
            "        [1, 1, 1, 1],\n",
            "        [1, 1, 1, 1]])\n",
            "tensor([[0., 0.],\n",
            "        [0., 0.]])\n"
          ]
        }
      ]
    },
    {
      "cell_type": "markdown",
      "source": [
        "## 1-3. 무작위로 초기화된 Tensor\n",
        "### - torch.rand : 0 ~ 1 사이의 값으로 무작위로 초기화\n",
        "### - torch.randn : 표준정규분포에서 무작위로 초기화"
      ],
      "metadata": {
        "id": "3GBriPx_EkoY"
      }
    },
    {
      "cell_type": "code",
      "source": [
        "a = torch.rand(3, 3)\n",
        "b = torch.randn(3, 3)\n",
        "print(a, b)"
      ],
      "metadata": {
        "colab": {
          "base_uri": "https://localhost:8080/"
        },
        "id": "tAGZZBTBEUL-",
        "outputId": "b14586ea-8bed-46a4-a97b-aeaa3f12ab7d"
      },
      "execution_count": null,
      "outputs": [
        {
          "output_type": "stream",
          "name": "stdout",
          "text": [
            "tensor([[0.3698, 0.3287, 0.1660],\n",
            "        [0.8994, 0.3264, 0.5337],\n",
            "        [0.1850, 0.8077, 0.3904]]) tensor([[-0.4776, -0.5529,  0.1706],\n",
            "        [-0.3713,  0.4774,  0.3191],\n",
            "        [ 0.2059,  1.0412,  0.7804]])\n"
          ]
        }
      ]
    },
    {
      "cell_type": "markdown",
      "source": [
        "## 1-4. 직접 입력한 값으로 초기화"
      ],
      "metadata": {
        "id": "Isgp_4OXFGxv"
      }
    },
    {
      "cell_type": "code",
      "source": [
        "a = torch.tensor([1,2.3])\n",
        "a"
      ],
      "metadata": {
        "colab": {
          "base_uri": "https://localhost:8080/"
        },
        "id": "3XAtyXsWFFiz",
        "outputId": "6ee9de9b-5c22-45df-b464-9d4a836e76d4"
      },
      "execution_count": null,
      "outputs": [
        {
          "output_type": "execute_result",
          "data": {
            "text/plain": [
              "tensor([1.0000, 2.3000])"
            ]
          },
          "metadata": {},
          "execution_count": 16
        }
      ]
    },
    {
      "cell_type": "markdown",
      "source": [
        "## 1-5. Numpy 배열로부터 초기화"
      ],
      "metadata": {
        "id": "nOuCG2gLFgNr"
      }
    },
    {
      "cell_type": "code",
      "source": [
        "nd_arr = np.array([1,2,3])\n",
        "a = torch.from_numpy(nd_arr)\n",
        "a\n",
        "\n",
        "# numpy array로 변환\n",
        "b = torch.tensor([1, 2, 3, 4, 5])\n",
        "new_nd = b.numpy()\n",
        "new_nd[2] = 100\n",
        "print(new_nd)\n",
        "print(b)"
      ],
      "metadata": {
        "colab": {
          "base_uri": "https://localhost:8080/"
        },
        "id": "c66PRwQeFOKG",
        "outputId": "944f3379-6fc5-40ca-a9ff-71f1079702dc"
      },
      "execution_count": null,
      "outputs": [
        {
          "output_type": "stream",
          "name": "stdout",
          "text": [
            "[  1   2 100   4   5]\n",
            "tensor([  1,   2, 100,   4,   5])\n"
          ]
        }
      ]
    },
    {
      "cell_type": "markdown",
      "source": [
        "## 1-6. 특정 텐서와 같은 사이즈, 무작위로 값을 채움"
      ],
      "metadata": {
        "id": "UF2dfTnCGhhP"
      }
    },
    {
      "cell_type": "code",
      "source": [
        "a = torch.ones(3, 4, dtype=torch.long)\n",
        "b = torch.rand_like(a, dtype=torch.float)\n",
        "b"
      ],
      "metadata": {
        "colab": {
          "base_uri": "https://localhost:8080/"
        },
        "id": "ClSsklPqFt1D",
        "outputId": "8e98f2a5-ed50-4faa-de42-531f395c34a6"
      },
      "execution_count": null,
      "outputs": [
        {
          "output_type": "execute_result",
          "data": {
            "text/plain": [
              "tensor([[0.3540, 0.4812, 0.5245, 0.1170],\n",
              "        [0.9605, 0.6925, 0.9560, 0.8223],\n",
              "        [0.5634, 0.4274, 0.5608, 0.2907]])"
            ]
          },
          "metadata": {},
          "execution_count": 20
        }
      ]
    },
    {
      "cell_type": "markdown",
      "source": [
        "## 1-7. 텐서의 속성"
      ],
      "metadata": {
        "id": "Tyg5RMqnQrad"
      }
    },
    {
      "cell_type": "code",
      "source": [
        "device = torch.device('cuda' if torch.cuda.is_available() else 'cpu')\n",
        "\n",
        "tensor = torch.rand(3, 4, dtype=torch.float64)\n",
        "tensor = tensor.to(device)\n",
        "print(tensor.size())  #사이즈\n",
        "print(tensor.shape)  #사이즈\n",
        "print(tensor.dtype)  #데이터 타입\n",
        "print(tensor.device)  #디바이스"
      ],
      "metadata": {
        "colab": {
          "base_uri": "https://localhost:8080/"
        },
        "id": "apCBAcSBQzGz",
        "outputId": "d535330b-07cf-4276-d374-07ae2e061db0"
      },
      "execution_count": 7,
      "outputs": [
        {
          "output_type": "stream",
          "name": "stdout",
          "text": [
            "torch.Size([3, 4])\n",
            "torch.Size([3, 4])\n",
            "torch.float64\n",
            "cuda:0\n"
          ]
        }
      ]
    },
    {
      "cell_type": "markdown",
      "source": [
        "## 1-8. 특정 타입의 텐서 생성"
      ],
      "metadata": {
        "id": "DKqDfmLZR1WJ"
      }
    },
    {
      "cell_type": "code",
      "source": [
        "tensor = torch.rand(3, 4, dtype=torch.float64)\n",
        "print(tensor.dtype)\n",
        "\n",
        "float_tensor = torch.FloatTensor([1,2,3])\n",
        "print(float_tensor.dtype)\n",
        "\n",
        "int_tensor = torch.IntTensor([1,2,3])\n",
        "print(int_tensor.dtype)"
      ],
      "metadata": {
        "colab": {
          "base_uri": "https://localhost:8080/"
        },
        "id": "3DdagZ8BQ6M2",
        "outputId": "96e54141-0442-46a3-8b46-91b2915525e5"
      },
      "execution_count": 11,
      "outputs": [
        {
          "output_type": "stream",
          "name": "stdout",
          "text": [
            "torch.float64\n",
            "torch.float32\n",
            "torch.int32\n"
          ]
        }
      ]
    },
    {
      "cell_type": "markdown",
      "source": [
        "## 1-9. 데이터타입 캐스팅"
      ],
      "metadata": {
        "id": "0-BcQ5DiSrIO"
      }
    },
    {
      "cell_type": "code",
      "source": [
        "float_tensor = torch.FloatTensor([1,2,3])\n",
        "print(float_tensor.int())\n",
        "\n",
        "int_tensor = torch.IntTensor([1,2,3])\n",
        "print(int_tensor.float())"
      ],
      "metadata": {
        "colab": {
          "base_uri": "https://localhost:8080/"
        },
        "id": "Yi959LXLSAzZ",
        "outputId": "a406ce87-b18b-4960-d5ba-7443cf94be80"
      },
      "execution_count": 13,
      "outputs": [
        {
          "output_type": "stream",
          "name": "stdout",
          "text": [
            "tensor([1, 2, 3], dtype=torch.int32)\n",
            "tensor([1., 2., 3.])\n"
          ]
        }
      ]
    },
    {
      "cell_type": "markdown",
      "source": [
        "## 1-10. CUDA Tensor"
      ],
      "metadata": {
        "id": "QLRzlqdjTdHK"
      }
    },
    {
      "cell_type": "code",
      "source": [
        "tensor = torch.rand(3, 4, dtype=torch.float64)\n",
        "device = torch.device(\"cuda\" if torch.cuda.is_available() else \"cpu\")\n",
        "tensor = tensor.to(device)\n",
        "tensor.device"
      ],
      "metadata": {
        "colab": {
          "base_uri": "https://localhost:8080/"
        },
        "id": "cR5YHRhbS5jd",
        "outputId": "85bbfa70-04c6-49ba-f085-f9d55c1a7745"
      },
      "execution_count": 18,
      "outputs": [
        {
          "output_type": "execute_result",
          "data": {
            "text/plain": [
              "device(type='cuda', index=0)"
            ]
          },
          "metadata": {},
          "execution_count": 18
        }
      ]
    },
    {
      "cell_type": "markdown",
      "source": [
        "## 1-11. 다차원 Tensor 표현\n",
        "### 1-11-1. 0D Tensor(Scalar)\n",
        "#### 0D Tensor(Scalar) : 하나의 값을 담고 있는 텐서"
      ],
      "metadata": {
        "id": "NaHXCEVIU_hO"
      }
    },
    {
      "cell_type": "code",
      "source": [
        "t0 = torch.tensor(100)\n",
        "print(t0.ndim)\n",
        "print(t0.shape)\n",
        "print(t0)"
      ],
      "metadata": {
        "colab": {
          "base_uri": "https://localhost:8080/"
        },
        "id": "QzNWtGqNTpuD",
        "outputId": "c60d2e4c-a2ea-4ed6-eae2-3c4409602db2"
      },
      "execution_count": 21,
      "outputs": [
        {
          "output_type": "stream",
          "name": "stdout",
          "text": [
            "0\n",
            "torch.Size([])\n",
            "tensor(100)\n"
          ]
        }
      ]
    },
    {
      "cell_type": "markdown",
      "source": [
        "### 1-11-2. 1D Tensor(Vector)\n",
        "#### 1D Tensor(Vector) : 값들을 저장하고 있는 리스트와 유사한 텐서"
      ],
      "metadata": {
        "id": "xzhDaP9bVmD0"
      }
    },
    {
      "cell_type": "code",
      "source": [
        "t1 = torch.tensor([1,2,3])\n",
        "print(t1.ndim)\n",
        "print(t1.shape)\n",
        "print(t1)"
      ],
      "metadata": {
        "colab": {
          "base_uri": "https://localhost:8080/"
        },
        "id": "uGfNzgqlVZBH",
        "outputId": "73081a9e-8879-4831-ccb2-5656c445fcf8"
      },
      "execution_count": 22,
      "outputs": [
        {
          "output_type": "stream",
          "name": "stdout",
          "text": [
            "1\n",
            "torch.Size([3])\n",
            "tensor([1, 2, 3])\n"
          ]
        }
      ]
    },
    {
      "cell_type": "markdown",
      "source": [
        "### 1-11-2. 2D Tensor(Matrix)\n",
        "#### 2D Tensor(Matrix) : 행렬과 같은 모양으로 두개의 축이 존재"
      ],
      "metadata": {
        "id": "glo_W-dXWIHx"
      }
    },
    {
      "cell_type": "code",
      "source": [
        "t2 = torch.tensor([[1,2,3], [4,5,6]])\n",
        "print(t2.ndim)\n",
        "print(t2.shape)\n",
        "print(t2)"
      ],
      "metadata": {
        "colab": {
          "base_uri": "https://localhost:8080/"
        },
        "id": "P7YE595HV7aP",
        "outputId": "9ee333d6-382a-4979-8335-bf562d053642"
      },
      "execution_count": 24,
      "outputs": [
        {
          "output_type": "stream",
          "name": "stdout",
          "text": [
            "2\n",
            "torch.Size([2, 3])\n",
            "tensor([[1, 2, 3],\n",
            "        [4, 5, 6]])\n"
          ]
        }
      ]
    },
    {
      "cell_type": "markdown",
      "source": [
        "### 1-11-3. 3D Tensor(Cube)\n",
        "#### 3D Tensor(Cube) : 큐브와 같은 형태로 세 개의 축이 존재"
      ],
      "metadata": {
        "id": "DCkiTd9qWiE7"
      }
    },
    {
      "cell_type": "code",
      "source": [
        "t3 = torch.tensor([[[1,2,3], [4,5,6], [7,8,9]],\n",
        "                   [[1,2,3], [4,5,6], [7,8,9]],\n",
        "                   [[1,2,3], [4,5,6], [7,8,9]]\n",
        "                   ])\n",
        "print(t3.ndim)\n",
        "print(t3.shape)\n",
        "print(t3)"
      ],
      "metadata": {
        "colab": {
          "base_uri": "https://localhost:8080/"
        },
        "id": "aBHX-7MrWVkB",
        "outputId": "d47784e5-6f00-4035-a30b-9e12c3a8c930"
      },
      "execution_count": 26,
      "outputs": [
        {
          "output_type": "stream",
          "name": "stdout",
          "text": [
            "3\n",
            "torch.Size([3, 3, 3])\n",
            "tensor([[[1, 2, 3],\n",
            "         [4, 5, 6],\n",
            "         [7, 8, 9]],\n",
            "\n",
            "        [[1, 2, 3],\n",
            "         [4, 5, 6],\n",
            "         [7, 8, 9]],\n",
            "\n",
            "        [[1, 2, 3],\n",
            "         [4, 5, 6],\n",
            "         [7, 8, 9]]])\n"
          ]
        }
      ]
    },
    {
      "cell_type": "markdown",
      "source": [
        "### 1-11-4. 4D Tensor\n",
        "#### 4D Tensor : 4개의 축"
      ],
      "metadata": {
        "id": "p02xc5LRXaMM"
      }
    },
    {
      "cell_type": "code",
      "source": [
        "t4 = torch.rand(2, 3, 4, 5)\n",
        "t4"
      ],
      "metadata": {
        "colab": {
          "base_uri": "https://localhost:8080/"
        },
        "id": "T9ZPNgOkWrRU",
        "outputId": "dfe63335-a01f-460e-a9c8-8bbb4d477bcf"
      },
      "execution_count": 29,
      "outputs": [
        {
          "output_type": "execute_result",
          "data": {
            "text/plain": [
              "tensor([[[[0.5835, 0.0476, 0.7407, 0.7502, 0.5735],\n",
              "          [0.9568, 0.7290, 0.0295, 0.0561, 0.6374],\n",
              "          [0.9316, 0.5294, 0.9307, 0.2759, 0.1211],\n",
              "          [0.0242, 0.0736, 0.7240, 0.1698, 0.3976]],\n",
              "\n",
              "         [[0.5411, 0.5263, 0.0193, 0.1737, 0.8309],\n",
              "          [0.3637, 0.8535, 0.5838, 0.4387, 0.2852],\n",
              "          [0.7978, 0.1916, 0.5434, 0.4532, 0.5754],\n",
              "          [0.1934, 0.1858, 0.7581, 0.4684, 0.4289]],\n",
              "\n",
              "         [[0.5672, 0.7508, 0.9528, 0.0996, 0.7344],\n",
              "          [0.1433, 0.6494, 0.5237, 0.9971, 0.6083],\n",
              "          [0.5889, 0.1163, 0.7611, 0.6850, 0.8765],\n",
              "          [0.3424, 0.4696, 0.0438, 0.4483, 0.1324]]],\n",
              "\n",
              "\n",
              "        [[[0.3097, 0.2214, 0.3298, 0.0785, 0.3174],\n",
              "          [0.3528, 0.3120, 0.3748, 0.5563, 0.7537],\n",
              "          [0.3718, 0.3864, 0.5788, 0.5151, 0.8120],\n",
              "          [0.2403, 0.6653, 0.9203, 0.6977, 0.7190]],\n",
              "\n",
              "         [[0.6199, 0.6720, 0.4808, 0.6592, 0.1097],\n",
              "          [0.7123, 0.7897, 0.7493, 0.1583, 0.5654],\n",
              "          [0.8256, 0.0984, 0.2759, 0.6263, 0.2475],\n",
              "          [0.4546, 0.7758, 0.9551, 0.8740, 0.7671]],\n",
              "\n",
              "         [[0.5657, 0.1711, 0.1161, 0.1609, 0.3703],\n",
              "          [0.9877, 0.8965, 0.5922, 0.8312, 0.4191],\n",
              "          [0.8720, 0.3486, 0.7722, 0.3365, 0.3834],\n",
              "          [0.5950, 0.4303, 0.7272, 0.6890, 0.8814]]]])"
            ]
          },
          "metadata": {},
          "execution_count": 29
        }
      ]
    }
  ]
}