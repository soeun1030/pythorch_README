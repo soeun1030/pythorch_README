{
  "cells": [
    {
      "cell_type": "markdown",
      "metadata": {
        "id": "view-in-github",
        "colab_type": "text"
      },
      "source": [
        "<a href=\"https://colab.research.google.com/github/soeun1030/pythorch_README/blob/main/03_manipulation_quiz3.ipynb\" target=\"_parent\"><img src=\"https://colab.research.google.com/assets/colab-badge.svg\" alt=\"Open In Colab\"/></a>"
      ]
    },
    {
      "cell_type": "code",
      "execution_count": 1,
      "metadata": {
        "id": "w8fDZw2C0I7u",
        "outputId": "7a4bdcc4-7b87-46bb-c586-419286b5f393",
        "colab": {
          "base_uri": "https://localhost:8080/"
        }
      },
      "outputs": [
        {
          "output_type": "stream",
          "name": "stdout",
          "text": [
            "setting complete.\n"
          ]
        }
      ],
      "source": [
        "import torch\n",
        "print(\"setting complete.\")"
      ]
    },
    {
      "cell_type": "markdown",
      "metadata": {
        "id": "R70ae-9l0I7x"
      },
      "source": [
        "### 문제1 : 기본 인덱싱"
      ]
    },
    {
      "cell_type": "code",
      "execution_count": 16,
      "metadata": {
        "id": "DaO2Y5a10I70",
        "outputId": "3870ac43-6188-40aa-e123-900ab8aa3b96",
        "colab": {
          "base_uri": "https://localhost:8080/"
        }
      },
      "outputs": [
        {
          "output_type": "stream",
          "name": "stdout",
          "text": [
            "tensor(2)\n",
            "tensor(7)\n"
          ]
        }
      ],
      "source": [
        "t = torch.tensor([[1, 2, 3], [4, 5, 6], [7, 8, 9]])\n",
        "# (1) 첫 번째 행의 두 번째 값을 출력하세요.\n",
        "print(t[0,1])\n",
        "# (2) 세 번째 행의 첫 번째 값을 출력하세요.\n",
        "print(t[2,0])"
      ]
    },
    {
      "cell_type": "markdown",
      "metadata": {
        "id": "Dksalqq90I71"
      },
      "source": [
        "### 문제2 : 기본 슬라이싱"
      ]
    },
    {
      "cell_type": "code",
      "execution_count": 35,
      "metadata": {
        "id": "b7-UGSfw0I71",
        "outputId": "848e64ac-58a5-400f-8b5a-f57b2c67776e",
        "colab": {
          "base_uri": "https://localhost:8080/"
        }
      },
      "outputs": [
        {
          "output_type": "stream",
          "name": "stdout",
          "text": [
            "tensor([[1, 2, 3],\n",
            "        [4, 5, 6]])\n",
            "tensor([1, 4, 7])\n"
          ]
        }
      ],
      "source": [
        "t = torch.tensor([[1, 2, 3], [4, 5, 6], [7, 8, 9]])\n",
        "# (1) 첫 번째와 두 번째 행의 모든 값을 추출하세요.\n",
        "print(t[0:2])\n",
        "# (2) 모든 행의 첫 번째 열을 추출하세요.\n",
        "print(t[:,0])"
      ]
    },
    {
      "cell_type": "markdown",
      "metadata": {
        "id": "DV87R_KE0I72"
      },
      "source": [
        "### 문제 3: 음수 인덱싱"
      ]
    },
    {
      "cell_type": "code",
      "execution_count": 18,
      "metadata": {
        "id": "bK2FT9l00I72",
        "colab": {
          "base_uri": "https://localhost:8080/"
        },
        "outputId": "aa4434ca-d71d-4c64-9141-432ae0862dc3"
      },
      "outputs": [
        {
          "output_type": "stream",
          "name": "stdout",
          "text": [
            "tensor([4, 5, 6])\n"
          ]
        }
      ],
      "source": [
        "t = torch.tensor([1, 2, 3, 4, 5, 6])\n",
        "# 끝에서 세 번째 값부터 끝까지 추출하세요.\n",
        "print(t[-3:])"
      ]
    },
    {
      "cell_type": "markdown",
      "metadata": {
        "id": "g17tydFK0I72"
      },
      "source": [
        "### 문제 4: 조건에 따른 필터링"
      ]
    },
    {
      "cell_type": "code",
      "execution_count": 19,
      "metadata": {
        "id": "n2JEs9nx0I73",
        "colab": {
          "base_uri": "https://localhost:8080/"
        },
        "outputId": "bfc3a356-13d1-4ac3-e336-a1867a6cefb2"
      },
      "outputs": [
        {
          "output_type": "stream",
          "name": "stdout",
          "text": [
            "tensor([1, 3, 5, 7, 9])\n",
            "tensor([ 3, -6,  9])\n"
          ]
        }
      ],
      "source": [
        "t = torch.tensor([[1, -2, 3], [-4, 5, -6], [7, -8, 9]])\n",
        "# (1) 양수만 추출하세요.\n",
        "print(t[t>0])\n",
        "# (2) 3으로 나누어떨어지는 값만 추출하세요.\n",
        "print(t[t % 3 == 0])"
      ]
    },
    {
      "cell_type": "markdown",
      "metadata": {
        "id": "PDPH9Hnp0I73"
      },
      "source": [
        "### 문제 5: 슬라이싱으로 값 변경\n"
      ]
    },
    {
      "cell_type": "code",
      "execution_count": 27,
      "metadata": {
        "id": "97pd_8du0I74",
        "colab": {
          "base_uri": "https://localhost:8080/"
        },
        "outputId": "a5ef520c-e926-4502-e716-52683e7f938c"
      },
      "outputs": [
        {
          "output_type": "stream",
          "name": "stdout",
          "text": [
            "tensor([[1, 2, 3],\n",
            "        [0, 0, 0],\n",
            "        [7, 8, 9]])\n",
            "tensor([[1, 0, 3],\n",
            "        [0, 0, 0],\n",
            "        [7, 0, 9]])\n"
          ]
        }
      ],
      "source": [
        "t = torch.tensor([[1, 2, 3], [4, 5, 6], [7, 8, 9]])\n",
        "# 두 번째 행의 값을 모두 0으로 변경하세요.\n",
        "t[1, :] = 0\n",
        "print(t)\n",
        "# (2) 첫 번째 열의 값을 모두 0으로 변경하세요.\n",
        "t[:,1] = 0\n",
        "print(t)"
      ]
    },
    {
      "cell_type": "markdown",
      "metadata": {
        "id": "AKOJiQ6q0I74"
      },
      "source": [
        "### 문제 6: 고급 인덱싱"
      ]
    },
    {
      "cell_type": "code",
      "execution_count": 37,
      "metadata": {
        "id": "A8YUo5Zx0I74",
        "colab": {
          "base_uri": "https://localhost:8080/"
        },
        "outputId": "ac262d8a-c151-47b2-f07c-53d14133c9c3"
      },
      "outputs": [
        {
          "output_type": "stream",
          "name": "stdout",
          "text": [
            "tensor(2) tensor(6) tensor(7)\n",
            "tensor(4) tensor(6) tensor(7) tensor(9)\n",
            "tensor([[4, 6],\n",
            "        [7, 9]])\n"
          ]
        }
      ],
      "source": [
        "t = torch.tensor([[1, 2, 3], [4, 5, 6], [7, 8, 9]])\n",
        "# (1) (0, 1), (1, 2), (2, 0) 위치의 값을 추출하세요.\n",
        "print(t[0,1], t[1,2], t[2,0])  #print(t[0,1,2], [1,2,0])\n",
        "# (2) 두 번째 행과 세 번째 행의 첫 번째 열과 세 번째 열 값을 추출하세요.\n",
        "print(t[1,0], t[1,2], t[2,0], t[2,2])  #print(t[1:3, [0,2]])"
      ]
    },
    {
      "cell_type": "markdown",
      "metadata": {
        "id": "9GEzXL9Y0I75"
      },
      "source": [
        "### 문제 7: 특정 범위 슬라이싱"
      ]
    },
    {
      "cell_type": "code",
      "execution_count": 39,
      "metadata": {
        "id": "saySMv6l0I75",
        "colab": {
          "base_uri": "https://localhost:8080/"
        },
        "outputId": "14a8b408-8bf0-42a6-c55e-cafdc0a75b79"
      },
      "outputs": [
        {
          "output_type": "stream",
          "name": "stdout",
          "text": [
            "tensor(6) tensor(7) tensor(10) tensor(11)\n",
            "tensor([[ 6,  7],\n",
            "        [10, 11]])\n"
          ]
        }
      ],
      "source": [
        "t = torch.tensor([\n",
        "    [1, 2, 3, 4],\n",
        "    [5, 6, 7, 8],\n",
        "    [9, 10, 11, 12],\n",
        "    [13, 14, 15, 16]\n",
        "])\n",
        "# 두 번째와 세 번째 행의 두 번째와 세 번째 열을 추출하세요.\n",
        "print(t[1,1], t[1,2], t[2,1], t[2,2])  #print(t[1:3, 1:3])"
      ]
    },
    {
      "cell_type": "code",
      "source": [],
      "metadata": {
        "id": "gBSFsNy_3jYU"
      },
      "execution_count": null,
      "outputs": []
    }
  ],
  "metadata": {
    "kernelspec": {
      "display_name": "torch_env",
      "language": "python",
      "name": "python3"
    },
    "language_info": {
      "codemirror_mode": {
        "name": "ipython",
        "version": 3
      },
      "file_extension": ".py",
      "mimetype": "text/x-python",
      "name": "python",
      "nbconvert_exporter": "python",
      "pygments_lexer": "ipython3",
      "version": "3.12.8"
    },
    "colab": {
      "provenance": [],
      "include_colab_link": true
    }
  },
  "nbformat": 4,
  "nbformat_minor": 0
}